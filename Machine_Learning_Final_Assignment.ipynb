{
  "nbformat": 4,
  "nbformat_minor": 0,
  "metadata": {
    "colab": {
      "provenance": [],
      "collapsed_sections": [
        "I7mz6WehmaXs",
        "KQmXl7lpoPdz",
        "c0wTDlIBzBjk",
        "49PJzZVN6yEI"
      ],
      "include_colab_link": true
    },
    "kernelspec": {
      "name": "python3",
      "display_name": "Python 3"
    },
    "language_info": {
      "name": "python"
    }
  },
  "cells": [
    {
      "cell_type": "markdown",
      "metadata": {
        "id": "view-in-github",
        "colab_type": "text"
      },
      "source": [
        "<a href=\"https://colab.research.google.com/github/AlfiRam/Horse-Race-Betting-Final-Project---Programming-Lab/blob/main/Machine_Learning_Final_Assignment.ipynb\" target=\"_parent\"><img src=\"https://colab.research.google.com/assets/colab-badge.svg\" alt=\"Open In Colab\"/></a>"
      ]
    },
    {
      "cell_type": "markdown",
      "source": [
        "### Machine Learning Final Project\n",
        "* Reynard Pradhitya - 21/472680/PA/20321\n",
        "* Muhammad Alfi Ramadhan - 21/472839/PA/20345\n",
        "* Reza Aurelio Brilliansah - 21/475037/PA/20515\n",
        "* Muhammad Zaky Firdaus - 21/477171/PA/20637"
      ],
      "metadata": {
        "id": "-5nX7Ra2xyt1"
      }
    },
    {
      "cell_type": "markdown",
      "source": [
        "## Importing Libraries"
      ],
      "metadata": {
        "id": "I7mz6WehmaXs"
      }
    },
    {
      "cell_type": "code",
      "execution_count": null,
      "metadata": {
        "id": "pXN6Hhl1uIs7"
      },
      "outputs": [],
      "source": [
        "import pandas as pd\n",
        "import numpy as np\n",
        "\n",
        "import plotly.express as px\n",
        "import plotly.graph_objects as go\n",
        "import matplotlib.pyplot as plt\n",
        "import seaborn as sns\n",
        "\n",
        "from sklearn.model_selection import GridSearchCV\n",
        "from sklearn.svm import SVC\n",
        "from sklearn.linear_model import LogisticRegression\n",
        "from sklearn.ensemble import RandomForestClassifier, GradientBoostingClassifier\n",
        "from sklearn.model_selection import train_test_split\n",
        "from sklearn.metrics import accuracy_score, classification_report\n",
        "from sklearn import metrics"
      ]
    },
    {
      "cell_type": "markdown",
      "source": [
        "## Data Acquisition"
      ],
      "metadata": {
        "id": "KQmXl7lpoPdz"
      }
    },
    {
      "cell_type": "markdown",
      "source": [
        "Import from google drive"
      ],
      "metadata": {
        "id": "Sri1YnSboT1-"
      }
    },
    {
      "cell_type": "code",
      "source": [
        "from google.colab import drive\n",
        "drive.mount('/content/drive')"
      ],
      "metadata": {
        "colab": {
          "base_uri": "https://localhost:8080/"
        },
        "id": "GQHF1Pe1wTT9",
        "outputId": "16d45b7a-742f-4801-b6a0-7ee024ad8ef6"
      },
      "execution_count": null,
      "outputs": [
        {
          "output_type": "stream",
          "name": "stdout",
          "text": [
            "Mounted at /content/drive\n"
          ]
        }
      ]
    },
    {
      "cell_type": "code",
      "source": [
        "test = '/content/drive/MyDrive/ML/ML_testing.csv'\n",
        "train = '/content/drive/MyDrive/ML/ML_training.csv'"
      ],
      "metadata": {
        "id": "sZjnIqCgw3on"
      },
      "execution_count": null,
      "outputs": []
    },
    {
      "cell_type": "markdown",
      "source": [
        "Checking the data"
      ],
      "metadata": {
        "id": "Z_MC7heAoW2m"
      }
    },
    {
      "cell_type": "code",
      "source": [
        "df = pd.read_csv(test)\n",
        "df.head()"
      ],
      "metadata": {
        "colab": {
          "base_uri": "https://localhost:8080/",
          "height": 279
        },
        "id": "r0bduMxHxTB2",
        "outputId": "9b7bceff-f670-4294-b7e0-2e38c609a140"
      },
      "execution_count": null,
      "outputs": [
        {
          "output_type": "execute_result",
          "data": {
            "text/plain": [
              "  No. Sample   RBC   HGB  Cellular HGB   HCT   MCV   MCH  MCHC  CHCM    CH  \\\n",
              "0       D290  5.20   9.8          10.6  31.4  60.4  18.8  31.2  33.8  20.2   \n",
              "1     K1.164  5.26  10.9           NaN  36.4  69.2  20.8  30.1   NaN   NaN   \n",
              "2       F744  5.55  11.2          12.4  36.8  66.3  20.2  30.5  33.6  22.1   \n",
              "3       F678  6.61  11.7          12.9  38.1  57.7  17.7  30.7  33.8  19.3   \n",
              "4     L1.341  4.92  11.9          12.3  37.5  76.1  24.1  31.7  32.9  24.8   \n",
              "\n",
              "   ...   HDW  Retic %   CHr   CHm  RBC % Hyper  RBC % Hypo  RBC % Macro  \\\n",
              "0  ...  3.90     1.22  22.4  20.1          4.4         4.1          0.0   \n",
              "1  ...   NaN     1.58  25.8  22.2          0.5         5.1          0.0   \n",
              "2  ...  3.40     1.96  24.0  22.0          2.3         3.7          0.0   \n",
              "3  ...  3.62     1.10  22.4  19.5          3.4         3.3          0.0   \n",
              "4  ...  2.69     1.43  27.6  24.8          0.7         2.2          0.1   \n",
              "\n",
              "   RBC % Micro  RBC Fragment  Diagnosis  \n",
              "0         49.9          0.07          1  \n",
              "1         19.2          0.04          1  \n",
              "2         27.8          0.10          1  \n",
              "3         62.0          0.07          1  \n",
              "4          9.6          0.02          1  \n",
              "\n",
              "[5 rows x 21 columns]"
            ],
            "text/html": [
              "\n",
              "  <div id=\"df-9138fa2e-2718-4ff3-9998-3191ca28af67\">\n",
              "    <div class=\"colab-df-container\">\n",
              "      <div>\n",
              "<style scoped>\n",
              "    .dataframe tbody tr th:only-of-type {\n",
              "        vertical-align: middle;\n",
              "    }\n",
              "\n",
              "    .dataframe tbody tr th {\n",
              "        vertical-align: top;\n",
              "    }\n",
              "\n",
              "    .dataframe thead th {\n",
              "        text-align: right;\n",
              "    }\n",
              "</style>\n",
              "<table border=\"1\" class=\"dataframe\">\n",
              "  <thead>\n",
              "    <tr style=\"text-align: right;\">\n",
              "      <th></th>\n",
              "      <th>No. Sample</th>\n",
              "      <th>RBC</th>\n",
              "      <th>HGB</th>\n",
              "      <th>Cellular HGB</th>\n",
              "      <th>HCT</th>\n",
              "      <th>MCV</th>\n",
              "      <th>MCH</th>\n",
              "      <th>MCHC</th>\n",
              "      <th>CHCM</th>\n",
              "      <th>CH</th>\n",
              "      <th>...</th>\n",
              "      <th>HDW</th>\n",
              "      <th>Retic %</th>\n",
              "      <th>CHr</th>\n",
              "      <th>CHm</th>\n",
              "      <th>RBC % Hyper</th>\n",
              "      <th>RBC % Hypo</th>\n",
              "      <th>RBC % Macro</th>\n",
              "      <th>RBC % Micro</th>\n",
              "      <th>RBC Fragment</th>\n",
              "      <th>Diagnosis</th>\n",
              "    </tr>\n",
              "  </thead>\n",
              "  <tbody>\n",
              "    <tr>\n",
              "      <th>0</th>\n",
              "      <td>D290</td>\n",
              "      <td>5.20</td>\n",
              "      <td>9.8</td>\n",
              "      <td>10.6</td>\n",
              "      <td>31.4</td>\n",
              "      <td>60.4</td>\n",
              "      <td>18.8</td>\n",
              "      <td>31.2</td>\n",
              "      <td>33.8</td>\n",
              "      <td>20.2</td>\n",
              "      <td>...</td>\n",
              "      <td>3.90</td>\n",
              "      <td>1.22</td>\n",
              "      <td>22.4</td>\n",
              "      <td>20.1</td>\n",
              "      <td>4.4</td>\n",
              "      <td>4.1</td>\n",
              "      <td>0.0</td>\n",
              "      <td>49.9</td>\n",
              "      <td>0.07</td>\n",
              "      <td>1</td>\n",
              "    </tr>\n",
              "    <tr>\n",
              "      <th>1</th>\n",
              "      <td>K1.164</td>\n",
              "      <td>5.26</td>\n",
              "      <td>10.9</td>\n",
              "      <td>NaN</td>\n",
              "      <td>36.4</td>\n",
              "      <td>69.2</td>\n",
              "      <td>20.8</td>\n",
              "      <td>30.1</td>\n",
              "      <td>NaN</td>\n",
              "      <td>NaN</td>\n",
              "      <td>...</td>\n",
              "      <td>NaN</td>\n",
              "      <td>1.58</td>\n",
              "      <td>25.8</td>\n",
              "      <td>22.2</td>\n",
              "      <td>0.5</td>\n",
              "      <td>5.1</td>\n",
              "      <td>0.0</td>\n",
              "      <td>19.2</td>\n",
              "      <td>0.04</td>\n",
              "      <td>1</td>\n",
              "    </tr>\n",
              "    <tr>\n",
              "      <th>2</th>\n",
              "      <td>F744</td>\n",
              "      <td>5.55</td>\n",
              "      <td>11.2</td>\n",
              "      <td>12.4</td>\n",
              "      <td>36.8</td>\n",
              "      <td>66.3</td>\n",
              "      <td>20.2</td>\n",
              "      <td>30.5</td>\n",
              "      <td>33.6</td>\n",
              "      <td>22.1</td>\n",
              "      <td>...</td>\n",
              "      <td>3.40</td>\n",
              "      <td>1.96</td>\n",
              "      <td>24.0</td>\n",
              "      <td>22.0</td>\n",
              "      <td>2.3</td>\n",
              "      <td>3.7</td>\n",
              "      <td>0.0</td>\n",
              "      <td>27.8</td>\n",
              "      <td>0.10</td>\n",
              "      <td>1</td>\n",
              "    </tr>\n",
              "    <tr>\n",
              "      <th>3</th>\n",
              "      <td>F678</td>\n",
              "      <td>6.61</td>\n",
              "      <td>11.7</td>\n",
              "      <td>12.9</td>\n",
              "      <td>38.1</td>\n",
              "      <td>57.7</td>\n",
              "      <td>17.7</td>\n",
              "      <td>30.7</td>\n",
              "      <td>33.8</td>\n",
              "      <td>19.3</td>\n",
              "      <td>...</td>\n",
              "      <td>3.62</td>\n",
              "      <td>1.10</td>\n",
              "      <td>22.4</td>\n",
              "      <td>19.5</td>\n",
              "      <td>3.4</td>\n",
              "      <td>3.3</td>\n",
              "      <td>0.0</td>\n",
              "      <td>62.0</td>\n",
              "      <td>0.07</td>\n",
              "      <td>1</td>\n",
              "    </tr>\n",
              "    <tr>\n",
              "      <th>4</th>\n",
              "      <td>L1.341</td>\n",
              "      <td>4.92</td>\n",
              "      <td>11.9</td>\n",
              "      <td>12.3</td>\n",
              "      <td>37.5</td>\n",
              "      <td>76.1</td>\n",
              "      <td>24.1</td>\n",
              "      <td>31.7</td>\n",
              "      <td>32.9</td>\n",
              "      <td>24.8</td>\n",
              "      <td>...</td>\n",
              "      <td>2.69</td>\n",
              "      <td>1.43</td>\n",
              "      <td>27.6</td>\n",
              "      <td>24.8</td>\n",
              "      <td>0.7</td>\n",
              "      <td>2.2</td>\n",
              "      <td>0.1</td>\n",
              "      <td>9.6</td>\n",
              "      <td>0.02</td>\n",
              "      <td>1</td>\n",
              "    </tr>\n",
              "  </tbody>\n",
              "</table>\n",
              "<p>5 rows × 21 columns</p>\n",
              "</div>\n",
              "      <button class=\"colab-df-convert\" onclick=\"convertToInteractive('df-9138fa2e-2718-4ff3-9998-3191ca28af67')\"\n",
              "              title=\"Convert this dataframe to an interactive table.\"\n",
              "              style=\"display:none;\">\n",
              "        \n",
              "  <svg xmlns=\"http://www.w3.org/2000/svg\" height=\"24px\"viewBox=\"0 0 24 24\"\n",
              "       width=\"24px\">\n",
              "    <path d=\"M0 0h24v24H0V0z\" fill=\"none\"/>\n",
              "    <path d=\"M18.56 5.44l.94 2.06.94-2.06 2.06-.94-2.06-.94-.94-2.06-.94 2.06-2.06.94zm-11 1L8.5 8.5l.94-2.06 2.06-.94-2.06-.94L8.5 2.5l-.94 2.06-2.06.94zm10 10l.94 2.06.94-2.06 2.06-.94-2.06-.94-.94-2.06-.94 2.06-2.06.94z\"/><path d=\"M17.41 7.96l-1.37-1.37c-.4-.4-.92-.59-1.43-.59-.52 0-1.04.2-1.43.59L10.3 9.45l-7.72 7.72c-.78.78-.78 2.05 0 2.83L4 21.41c.39.39.9.59 1.41.59.51 0 1.02-.2 1.41-.59l7.78-7.78 2.81-2.81c.8-.78.8-2.07 0-2.86zM5.41 20L4 18.59l7.72-7.72 1.47 1.35L5.41 20z\"/>\n",
              "  </svg>\n",
              "      </button>\n",
              "      \n",
              "  <style>\n",
              "    .colab-df-container {\n",
              "      display:flex;\n",
              "      flex-wrap:wrap;\n",
              "      gap: 12px;\n",
              "    }\n",
              "\n",
              "    .colab-df-convert {\n",
              "      background-color: #E8F0FE;\n",
              "      border: none;\n",
              "      border-radius: 50%;\n",
              "      cursor: pointer;\n",
              "      display: none;\n",
              "      fill: #1967D2;\n",
              "      height: 32px;\n",
              "      padding: 0 0 0 0;\n",
              "      width: 32px;\n",
              "    }\n",
              "\n",
              "    .colab-df-convert:hover {\n",
              "      background-color: #E2EBFA;\n",
              "      box-shadow: 0px 1px 2px rgba(60, 64, 67, 0.3), 0px 1px 3px 1px rgba(60, 64, 67, 0.15);\n",
              "      fill: #174EA6;\n",
              "    }\n",
              "\n",
              "    [theme=dark] .colab-df-convert {\n",
              "      background-color: #3B4455;\n",
              "      fill: #D2E3FC;\n",
              "    }\n",
              "\n",
              "    [theme=dark] .colab-df-convert:hover {\n",
              "      background-color: #434B5C;\n",
              "      box-shadow: 0px 1px 3px 1px rgba(0, 0, 0, 0.15);\n",
              "      filter: drop-shadow(0px 1px 2px rgba(0, 0, 0, 0.3));\n",
              "      fill: #FFFFFF;\n",
              "    }\n",
              "  </style>\n",
              "\n",
              "      <script>\n",
              "        const buttonEl =\n",
              "          document.querySelector('#df-9138fa2e-2718-4ff3-9998-3191ca28af67 button.colab-df-convert');\n",
              "        buttonEl.style.display =\n",
              "          google.colab.kernel.accessAllowed ? 'block' : 'none';\n",
              "\n",
              "        async function convertToInteractive(key) {\n",
              "          const element = document.querySelector('#df-9138fa2e-2718-4ff3-9998-3191ca28af67');\n",
              "          const dataTable =\n",
              "            await google.colab.kernel.invokeFunction('convertToInteractive',\n",
              "                                                     [key], {});\n",
              "          if (!dataTable) return;\n",
              "\n",
              "          const docLinkHtml = 'Like what you see? Visit the ' +\n",
              "            '<a target=\"_blank\" href=https://colab.research.google.com/notebooks/data_table.ipynb>data table notebook</a>'\n",
              "            + ' to learn more about interactive tables.';\n",
              "          element.innerHTML = '';\n",
              "          dataTable['output_type'] = 'display_data';\n",
              "          await google.colab.output.renderOutput(dataTable, element);\n",
              "          const docLink = document.createElement('div');\n",
              "          docLink.innerHTML = docLinkHtml;\n",
              "          element.appendChild(docLink);\n",
              "        }\n",
              "      </script>\n",
              "    </div>\n",
              "  </div>\n",
              "  "
            ]
          },
          "metadata": {},
          "execution_count": 5
        }
      ]
    },
    {
      "cell_type": "code",
      "source": [
        "df.dtypes"
      ],
      "metadata": {
        "colab": {
          "base_uri": "https://localhost:8080/"
        },
        "id": "a9-I0RrTCk_w",
        "outputId": "e943ceed-79d5-4f27-9b78-4444186c95b2"
      },
      "execution_count": null,
      "outputs": [
        {
          "output_type": "execute_result",
          "data": {
            "text/plain": [
              "No. Sample       object\n",
              "RBC             float64\n",
              "HGB             float64\n",
              "Cellular HGB    float64\n",
              "HCT             float64\n",
              "MCV             float64\n",
              "MCH             float64\n",
              "MCHC            float64\n",
              "CHCM            float64\n",
              "CH              float64\n",
              "RDW             float64\n",
              "HDW             float64\n",
              "Retic %         float64\n",
              "CHr             float64\n",
              "CHm             float64\n",
              "RBC % Hyper     float64\n",
              "RBC % Hypo      float64\n",
              "RBC % Macro     float64\n",
              "RBC % Micro     float64\n",
              "RBC Fragment    float64\n",
              "Diagnosis         int64\n",
              "dtype: object"
            ]
          },
          "metadata": {},
          "execution_count": 6
        }
      ]
    },
    {
      "cell_type": "code",
      "source": [
        "df2 = pd.read_csv(train)\n",
        "df2.head()"
      ],
      "metadata": {
        "colab": {
          "base_uri": "https://localhost:8080/",
          "height": 279
        },
        "id": "P2-rrUSgxtnJ",
        "outputId": "69f1e17b-f292-4100-e6e8-de97885089b4"
      },
      "execution_count": null,
      "outputs": [
        {
          "output_type": "execute_result",
          "data": {
            "text/plain": [
              "  No. Sample   RBC   HGB  Cellular HGB   HCT   MCV   MCH  MCHC  CHCM    CH  \\\n",
              "0       E541  3.78   9.0          10.1  29.4  77.7  23.8  30.7  34.2  25.9   \n",
              "1       D272  5.94  10.3          12.0  37.5  63.1  17.4  27.5  32.1  20.1   \n",
              "2       F728  5.93  10.8          12.0  34.4  58.0  18.2  31.3  34.8  20.0   \n",
              "3     N1.848  5.29  11.0          11.6  37.6  71.0  20.7  29.2  30.8  21.7   \n",
              "4      O2320  5.79  11.0          11.9  37.0  63.9  19.0  29.7  32.2  20.4   \n",
              "\n",
              "   ...   HDW  Retic %   CHr   CHm  RBC % Hyper  RBC % Hypo  RBC % Macro  \\\n",
              "0  ...  7.23     2.16  28.5  25.5         18.2        20.7          1.2   \n",
              "1  ...  3.59     1.38  23.1  20.3          2.0         9.3          0.0   \n",
              "2  ...  3.96     1.31  22.6  19.8          6.3         2.4          0.0   \n",
              "3  ...  3.07     1.42  25.9  22.0          0.7        15.3          0.1   \n",
              "4  ...  3.36     1.06  24.5  20.7          1.4         8.2          0.0   \n",
              "\n",
              "   RBC % Micro  RBC Fragment  Diagnosis  \n",
              "0         11.9          0.04          1  \n",
              "1         38.8          0.06          1  \n",
              "2         60.7          0.11          1  \n",
              "3         15.4          0.08          1  \n",
              "4         36.8          0.05          1  \n",
              "\n",
              "[5 rows x 21 columns]"
            ],
            "text/html": [
              "\n",
              "  <div id=\"df-358e017f-db70-4af6-8a7a-596e163972f8\">\n",
              "    <div class=\"colab-df-container\">\n",
              "      <div>\n",
              "<style scoped>\n",
              "    .dataframe tbody tr th:only-of-type {\n",
              "        vertical-align: middle;\n",
              "    }\n",
              "\n",
              "    .dataframe tbody tr th {\n",
              "        vertical-align: top;\n",
              "    }\n",
              "\n",
              "    .dataframe thead th {\n",
              "        text-align: right;\n",
              "    }\n",
              "</style>\n",
              "<table border=\"1\" class=\"dataframe\">\n",
              "  <thead>\n",
              "    <tr style=\"text-align: right;\">\n",
              "      <th></th>\n",
              "      <th>No. Sample</th>\n",
              "      <th>RBC</th>\n",
              "      <th>HGB</th>\n",
              "      <th>Cellular HGB</th>\n",
              "      <th>HCT</th>\n",
              "      <th>MCV</th>\n",
              "      <th>MCH</th>\n",
              "      <th>MCHC</th>\n",
              "      <th>CHCM</th>\n",
              "      <th>CH</th>\n",
              "      <th>...</th>\n",
              "      <th>HDW</th>\n",
              "      <th>Retic %</th>\n",
              "      <th>CHr</th>\n",
              "      <th>CHm</th>\n",
              "      <th>RBC % Hyper</th>\n",
              "      <th>RBC % Hypo</th>\n",
              "      <th>RBC % Macro</th>\n",
              "      <th>RBC % Micro</th>\n",
              "      <th>RBC Fragment</th>\n",
              "      <th>Diagnosis</th>\n",
              "    </tr>\n",
              "  </thead>\n",
              "  <tbody>\n",
              "    <tr>\n",
              "      <th>0</th>\n",
              "      <td>E541</td>\n",
              "      <td>3.78</td>\n",
              "      <td>9.0</td>\n",
              "      <td>10.1</td>\n",
              "      <td>29.4</td>\n",
              "      <td>77.7</td>\n",
              "      <td>23.8</td>\n",
              "      <td>30.7</td>\n",
              "      <td>34.2</td>\n",
              "      <td>25.9</td>\n",
              "      <td>...</td>\n",
              "      <td>7.23</td>\n",
              "      <td>2.16</td>\n",
              "      <td>28.5</td>\n",
              "      <td>25.5</td>\n",
              "      <td>18.2</td>\n",
              "      <td>20.7</td>\n",
              "      <td>1.2</td>\n",
              "      <td>11.9</td>\n",
              "      <td>0.04</td>\n",
              "      <td>1</td>\n",
              "    </tr>\n",
              "    <tr>\n",
              "      <th>1</th>\n",
              "      <td>D272</td>\n",
              "      <td>5.94</td>\n",
              "      <td>10.3</td>\n",
              "      <td>12.0</td>\n",
              "      <td>37.5</td>\n",
              "      <td>63.1</td>\n",
              "      <td>17.4</td>\n",
              "      <td>27.5</td>\n",
              "      <td>32.1</td>\n",
              "      <td>20.1</td>\n",
              "      <td>...</td>\n",
              "      <td>3.59</td>\n",
              "      <td>1.38</td>\n",
              "      <td>23.1</td>\n",
              "      <td>20.3</td>\n",
              "      <td>2.0</td>\n",
              "      <td>9.3</td>\n",
              "      <td>0.0</td>\n",
              "      <td>38.8</td>\n",
              "      <td>0.06</td>\n",
              "      <td>1</td>\n",
              "    </tr>\n",
              "    <tr>\n",
              "      <th>2</th>\n",
              "      <td>F728</td>\n",
              "      <td>5.93</td>\n",
              "      <td>10.8</td>\n",
              "      <td>12.0</td>\n",
              "      <td>34.4</td>\n",
              "      <td>58.0</td>\n",
              "      <td>18.2</td>\n",
              "      <td>31.3</td>\n",
              "      <td>34.8</td>\n",
              "      <td>20.0</td>\n",
              "      <td>...</td>\n",
              "      <td>3.96</td>\n",
              "      <td>1.31</td>\n",
              "      <td>22.6</td>\n",
              "      <td>19.8</td>\n",
              "      <td>6.3</td>\n",
              "      <td>2.4</td>\n",
              "      <td>0.0</td>\n",
              "      <td>60.7</td>\n",
              "      <td>0.11</td>\n",
              "      <td>1</td>\n",
              "    </tr>\n",
              "    <tr>\n",
              "      <th>3</th>\n",
              "      <td>N1.848</td>\n",
              "      <td>5.29</td>\n",
              "      <td>11.0</td>\n",
              "      <td>11.6</td>\n",
              "      <td>37.6</td>\n",
              "      <td>71.0</td>\n",
              "      <td>20.7</td>\n",
              "      <td>29.2</td>\n",
              "      <td>30.8</td>\n",
              "      <td>21.7</td>\n",
              "      <td>...</td>\n",
              "      <td>3.07</td>\n",
              "      <td>1.42</td>\n",
              "      <td>25.9</td>\n",
              "      <td>22.0</td>\n",
              "      <td>0.7</td>\n",
              "      <td>15.3</td>\n",
              "      <td>0.1</td>\n",
              "      <td>15.4</td>\n",
              "      <td>0.08</td>\n",
              "      <td>1</td>\n",
              "    </tr>\n",
              "    <tr>\n",
              "      <th>4</th>\n",
              "      <td>O2320</td>\n",
              "      <td>5.79</td>\n",
              "      <td>11.0</td>\n",
              "      <td>11.9</td>\n",
              "      <td>37.0</td>\n",
              "      <td>63.9</td>\n",
              "      <td>19.0</td>\n",
              "      <td>29.7</td>\n",
              "      <td>32.2</td>\n",
              "      <td>20.4</td>\n",
              "      <td>...</td>\n",
              "      <td>3.36</td>\n",
              "      <td>1.06</td>\n",
              "      <td>24.5</td>\n",
              "      <td>20.7</td>\n",
              "      <td>1.4</td>\n",
              "      <td>8.2</td>\n",
              "      <td>0.0</td>\n",
              "      <td>36.8</td>\n",
              "      <td>0.05</td>\n",
              "      <td>1</td>\n",
              "    </tr>\n",
              "  </tbody>\n",
              "</table>\n",
              "<p>5 rows × 21 columns</p>\n",
              "</div>\n",
              "      <button class=\"colab-df-convert\" onclick=\"convertToInteractive('df-358e017f-db70-4af6-8a7a-596e163972f8')\"\n",
              "              title=\"Convert this dataframe to an interactive table.\"\n",
              "              style=\"display:none;\">\n",
              "        \n",
              "  <svg xmlns=\"http://www.w3.org/2000/svg\" height=\"24px\"viewBox=\"0 0 24 24\"\n",
              "       width=\"24px\">\n",
              "    <path d=\"M0 0h24v24H0V0z\" fill=\"none\"/>\n",
              "    <path d=\"M18.56 5.44l.94 2.06.94-2.06 2.06-.94-2.06-.94-.94-2.06-.94 2.06-2.06.94zm-11 1L8.5 8.5l.94-2.06 2.06-.94-2.06-.94L8.5 2.5l-.94 2.06-2.06.94zm10 10l.94 2.06.94-2.06 2.06-.94-2.06-.94-.94-2.06-.94 2.06-2.06.94z\"/><path d=\"M17.41 7.96l-1.37-1.37c-.4-.4-.92-.59-1.43-.59-.52 0-1.04.2-1.43.59L10.3 9.45l-7.72 7.72c-.78.78-.78 2.05 0 2.83L4 21.41c.39.39.9.59 1.41.59.51 0 1.02-.2 1.41-.59l7.78-7.78 2.81-2.81c.8-.78.8-2.07 0-2.86zM5.41 20L4 18.59l7.72-7.72 1.47 1.35L5.41 20z\"/>\n",
              "  </svg>\n",
              "      </button>\n",
              "      \n",
              "  <style>\n",
              "    .colab-df-container {\n",
              "      display:flex;\n",
              "      flex-wrap:wrap;\n",
              "      gap: 12px;\n",
              "    }\n",
              "\n",
              "    .colab-df-convert {\n",
              "      background-color: #E8F0FE;\n",
              "      border: none;\n",
              "      border-radius: 50%;\n",
              "      cursor: pointer;\n",
              "      display: none;\n",
              "      fill: #1967D2;\n",
              "      height: 32px;\n",
              "      padding: 0 0 0 0;\n",
              "      width: 32px;\n",
              "    }\n",
              "\n",
              "    .colab-df-convert:hover {\n",
              "      background-color: #E2EBFA;\n",
              "      box-shadow: 0px 1px 2px rgba(60, 64, 67, 0.3), 0px 1px 3px 1px rgba(60, 64, 67, 0.15);\n",
              "      fill: #174EA6;\n",
              "    }\n",
              "\n",
              "    [theme=dark] .colab-df-convert {\n",
              "      background-color: #3B4455;\n",
              "      fill: #D2E3FC;\n",
              "    }\n",
              "\n",
              "    [theme=dark] .colab-df-convert:hover {\n",
              "      background-color: #434B5C;\n",
              "      box-shadow: 0px 1px 3px 1px rgba(0, 0, 0, 0.15);\n",
              "      filter: drop-shadow(0px 1px 2px rgba(0, 0, 0, 0.3));\n",
              "      fill: #FFFFFF;\n",
              "    }\n",
              "  </style>\n",
              "\n",
              "      <script>\n",
              "        const buttonEl =\n",
              "          document.querySelector('#df-358e017f-db70-4af6-8a7a-596e163972f8 button.colab-df-convert');\n",
              "        buttonEl.style.display =\n",
              "          google.colab.kernel.accessAllowed ? 'block' : 'none';\n",
              "\n",
              "        async function convertToInteractive(key) {\n",
              "          const element = document.querySelector('#df-358e017f-db70-4af6-8a7a-596e163972f8');\n",
              "          const dataTable =\n",
              "            await google.colab.kernel.invokeFunction('convertToInteractive',\n",
              "                                                     [key], {});\n",
              "          if (!dataTable) return;\n",
              "\n",
              "          const docLinkHtml = 'Like what you see? Visit the ' +\n",
              "            '<a target=\"_blank\" href=https://colab.research.google.com/notebooks/data_table.ipynb>data table notebook</a>'\n",
              "            + ' to learn more about interactive tables.';\n",
              "          element.innerHTML = '';\n",
              "          dataTable['output_type'] = 'display_data';\n",
              "          await google.colab.output.renderOutput(dataTable, element);\n",
              "          const docLink = document.createElement('div');\n",
              "          docLink.innerHTML = docLinkHtml;\n",
              "          element.appendChild(docLink);\n",
              "        }\n",
              "      </script>\n",
              "    </div>\n",
              "  </div>\n",
              "  "
            ]
          },
          "metadata": {},
          "execution_count": 7
        }
      ]
    },
    {
      "cell_type": "markdown",
      "source": [
        "## Data Visualization"
      ],
      "metadata": {
        "id": "c0wTDlIBzBjk"
      }
    },
    {
      "cell_type": "code",
      "source": [
        "columns_to_drop = ['No. Sample']\n",
        "df2 = df2.drop(columns_to_drop, axis=1)"
      ],
      "metadata": {
        "id": "MImfmlc13Wjf"
      },
      "execution_count": null,
      "outputs": []
    },
    {
      "cell_type": "code",
      "source": [
        "# creating a boxplot for each variable\n",
        "for column in df2.columns:\n",
        "    plt.boxplot(df2[column])\n",
        "    plt.xlabel(column)\n",
        "    plt.ylabel('Value')\n",
        "    plt.title(f\"Boxplot: {column}\")\n",
        "    plt.show()"
      ],
      "metadata": {
        "colab": {
          "base_uri": "https://localhost:8080/",
          "height": 1000
        },
        "id": "yANvtdVnN393",
        "outputId": "efd84f84-12d2-4073-8c0e-ff1405b245c1"
      },
      "execution_count": null,
      "outputs": [
        {
          "output_type": "display_data",
          "data": {
            "text/plain": [
              "<Figure size 640x480 with 1 Axes>"
            ],
            "image/png": "[encoded data removed]"
          },
          "metadata": {}
        },
        {
          "output_type": "display_data",
          "data": {
            "text/plain": [
              "<Figure size 640x480 with 1 Axes>"
            ],
            "image/png": "[encoded data removed]"
          },
          "metadata": {}
        },
        {
          "output_type": "display_data",
          "data": {
            "text/plain": [
              "<Figure size 640x480 with 1 Axes>"
            ],
            "image/png": "[encoded data removed]"
          },
          "metadata": {}
        },
        {
          "output_type": "display_data",
          "data": {
            "text/plain": [
              "<Figure size 640x480 with 1 Axes>"
            ],
            "image/png": "[encoded data removed]"
          },
          "metadata": {}
        },
        {
          "output_type": "display_data",
          "data": {
            "text/plain": [
              "<Figure size 640x480 with 1 Axes>"
            ],
            "image/png": "[encoded data removed]"
          },
          "metadata": {}
        },
        {
          "output_type": "display_data",
          "data": {
            "text/plain": [
              "<Figure size 640x480 with 1 Axes>"
            ],
            "image/png": "[encoded data removed]"
          },
          "metadata": {}
        },
        {
          "output_type": "display_data",
          "data": {
            "text/plain": [
              "<Figure size 640x480 with 1 Axes>"
            ],
            "image/png": "[encoded data removed]"
          },
          "metadata": {}
        },
        {
          "output_type": "display_data",
          "data": {
            "text/plain": [
              "<Figure size 640x480 with 1 Axes>"
            ],
            "image/png": "[encoded data removed]"
          },
          "metadata": {}
        },
        {
          "output_type": "display_data",
          "data": {
            "text/plain": [
              "<Figure size 640x480 with 1 Axes>"
            ],
            "image/png": "[encoded data removed]"
          },
          "metadata": {}
        },
        {
          "output_type": "display_data",
          "data": {
            "text/plain": [
              "<Figure size 640x480 with 1 Axes>"
            ],
            "image/png": "[encoded data removed]"
          },
          "metadata": {}
        },
        {
          "output_type": "display_data",
          "data": {
            "text/plain": [
              "<Figure size 640x480 with 1 Axes>"
            ],
            "image/png": "[encoded data removed]"
          },
          "metadata": {}
        },
        {
          "output_type": "display_data",
          "data": {
            "text/plain": [
              "<Figure size 640x480 with 1 Axes>"
            ],
            "image/png": "[encoded data removed]"
          },
          "metadata": {}
        },
        {
          "output_type": "display_data",
          "data": {
            "text/plain": [
              "<Figure size 640x480 with 1 Axes>"
            ],
            "image/png": "[encoded data removed]"
          },
          "metadata": {}
        },
        {
          "output_type": "display_data",
          "data": {
            "text/plain": [
              "<Figure size 640x480 with 1 Axes>"
            ],
            "image/png": "[encoded data removed]"
          },
          "metadata": {}
        },
        {
          "output_type": "display_data",
          "data": {
            "text/plain": [
              "<Figure size 640x480 with 1 Axes>"
            ],
            "image/png": "[encoded data removed]"
          },
          "metadata": {}
        },
        {
          "output_type": "display_data",
          "data": {
            "text/plain": [
              "<Figure size 640x480 with 1 Axes>"
            ],
            "image/png": "[encoded data removed]"
          },
          "metadata": {}
        },
        {
          "output_type": "display_data",
          "data": {
            "text/plain": [
              "<Figure size 640x480 with 1 Axes>"
            ],
            "image/png": "[encoded data removed]"
          },
          "metadata": {}
        },
        {
          "output_type": "display_data",
          "data": {
            "text/plain": [
              "<Figure size 640x480 with 1 Axes>"
            ],
            "image/png": "[encoded data removed]"
          },
          "metadata": {}
        },
        {
          "output_type": "display_data",
          "data": {
            "text/plain": [
              "<Figure size 640x480 with 1 Axes>"
            ],
            "image/png": "[encoded data removed]"
          },
          "metadata": {}
        },
        {
          "output_type": "display_data",
          "data": {
            "text/plain": [
              "<Figure size 640x480 with 1 Axes>"
            ],
            "image/png": "[encoded data removed]"
          },
          "metadata": {}
        }
      ]
    },
    {
      "cell_type": "markdown",
      "source": [
        "Checking the values"
      ],
      "metadata": {
        "id": "TmAZAxfvocQ5"
      }
    },
    {
      "cell_type": "code",
      "source": [
        "# Check for missing values\n",
        "df2.isnull().sum()"
      ],
      "metadata": {
        "colab": {
          "base_uri": "https://localhost:8080/"
        },
        "id": "O1SJX9CqIRou",
        "outputId": "75de685a-64bf-4620-8e0a-6a88812fdf20"
      },
      "execution_count": null,
      "outputs": [
        {
          "output_type": "execute_result",
          "data": {
            "text/plain": [
              "RBC              0\n",
              "HGB              0\n",
              "Cellular HGB    12\n",
              "HCT              0\n",
              "MCV              0\n",
              "MCH              0\n",
              "MCHC             0\n",
              "CHCM            12\n",
              "CH              12\n",
              "RDW              0\n",
              "HDW             12\n",
              "Retic %          0\n",
              "CHr              0\n",
              "CHm              0\n",
              "RBC % Hyper      0\n",
              "RBC % Hypo       0\n",
              "RBC % Macro      0\n",
              "RBC % Micro      0\n",
              "RBC Fragment     0\n",
              "Diagnosis        0\n",
              "dtype: int64"
            ]
          },
          "metadata": {},
          "execution_count": 10
        }
      ]
    },
    {
      "cell_type": "code",
      "source": [
        "df2_copy = df2.drop('Diagnosis', axis=1)"
      ],
      "metadata": {
        "id": "xat_jAOSDDEE"
      },
      "execution_count": null,
      "outputs": []
    },
    {
      "cell_type": "code",
      "source": [
        "df2_copy.head()"
      ],
      "metadata": {
        "colab": {
          "base_uri": "https://localhost:8080/",
          "height": 206
        },
        "id": "8bwj1302Du2w",
        "outputId": "a3da37d3-c726-4469-c8a6-0c56ad75202d"
      },
      "execution_count": null,
      "outputs": [
        {
          "output_type": "execute_result",
          "data": {
            "text/plain": [
              "    RBC   HGB  Cellular HGB   HCT   MCV   MCH  MCHC  CHCM    CH   RDW   HDW  \\\n",
              "0  3.78   9.0          10.1  29.4  77.7  23.8  30.7  34.2  25.9  21.1  7.23   \n",
              "1  5.94  10.3          12.0  37.5  63.1  17.4  27.5  32.1  20.1  15.9  3.59   \n",
              "2  5.93  10.8          12.0  34.4  58.0  18.2  31.3  34.8  20.0  16.0  3.96   \n",
              "3  5.29  11.0          11.6  37.6  71.0  20.7  29.2  30.8  21.7  16.9  3.07   \n",
              "4  5.79  11.0          11.9  37.0  63.9  19.0  29.7  32.2  20.4  16.6  3.36   \n",
              "\n",
              "   Retic %   CHr   CHm  RBC % Hyper  RBC % Hypo  RBC % Macro  RBC % Micro  \\\n",
              "0     2.16  28.5  25.5         18.2        20.7          1.2         11.9   \n",
              "1     1.38  23.1  20.3          2.0         9.3          0.0         38.8   \n",
              "2     1.31  22.6  19.8          6.3         2.4          0.0         60.7   \n",
              "3     1.42  25.9  22.0          0.7        15.3          0.1         15.4   \n",
              "4     1.06  24.5  20.7          1.4         8.2          0.0         36.8   \n",
              "\n",
              "   RBC Fragment  \n",
              "0          0.04  \n",
              "1          0.06  \n",
              "2          0.11  \n",
              "3          0.08  \n",
              "4          0.05  "
            ],
            "text/html": [
              "\n",
              "  <div id=\"df-1297febf-4456-4150-89e6-7ed71fc291ac\">\n",
              "    <div class=\"colab-df-container\">\n",
              "      <div>\n",
              "<style scoped>\n",
              "    .dataframe tbody tr th:only-of-type {\n",
              "        vertical-align: middle;\n",
              "    }\n",
              "\n",
              "    .dataframe tbody tr th {\n",
              "        vertical-align: top;\n",
              "    }\n",
              "\n",
              "    .dataframe thead th {\n",
              "        text-align: right;\n",
              "    }\n",
              "</style>\n",
              "<table border=\"1\" class=\"dataframe\">\n",
              "  <thead>\n",
              "    <tr style=\"text-align: right;\">\n",
              "      <th></th>\n",
              "      <th>RBC</th>\n",
              "      <th>HGB</th>\n",
              "      <th>Cellular HGB</th>\n",
              "      <th>HCT</th>\n",
              "      <th>MCV</th>\n",
              "      <th>MCH</th>\n",
              "      <th>MCHC</th>\n",
              "      <th>CHCM</th>\n",
              "      <th>CH</th>\n",
              "      <th>RDW</th>\n",
              "      <th>HDW</th>\n",
              "      <th>Retic %</th>\n",
              "      <th>CHr</th>\n",
              "      <th>CHm</th>\n",
              "      <th>RBC % Hyper</th>\n",
              "      <th>RBC % Hypo</th>\n",
              "      <th>RBC % Macro</th>\n",
              "      <th>RBC % Micro</th>\n",
              "      <th>RBC Fragment</th>\n",
              "    </tr>\n",
              "  </thead>\n",
              "  <tbody>\n",
              "    <tr>\n",
              "      <th>0</th>\n",
              "      <td>3.78</td>\n",
              "      <td>9.0</td>\n",
              "      <td>10.1</td>\n",
              "      <td>29.4</td>\n",
              "      <td>77.7</td>\n",
              "      <td>23.8</td>\n",
              "      <td>30.7</td>\n",
              "      <td>34.2</td>\n",
              "      <td>25.9</td>\n",
              "      <td>21.1</td>\n",
              "      <td>7.23</td>\n",
              "      <td>2.16</td>\n",
              "      <td>28.5</td>\n",
              "      <td>25.5</td>\n",
              "      <td>18.2</td>\n",
              "      <td>20.7</td>\n",
              "      <td>1.2</td>\n",
              "      <td>11.9</td>\n",
              "      <td>0.04</td>\n",
              "    </tr>\n",
              "    <tr>\n",
              "      <th>1</th>\n",
              "      <td>5.94</td>\n",
              "      <td>10.3</td>\n",
              "      <td>12.0</td>\n",
              "      <td>37.5</td>\n",
              "      <td>63.1</td>\n",
              "      <td>17.4</td>\n",
              "      <td>27.5</td>\n",
              "      <td>32.1</td>\n",
              "      <td>20.1</td>\n",
              "      <td>15.9</td>\n",
              "      <td>3.59</td>\n",
              "      <td>1.38</td>\n",
              "      <td>23.1</td>\n",
              "      <td>20.3</td>\n",
              "      <td>2.0</td>\n",
              "      <td>9.3</td>\n",
              "      <td>0.0</td>\n",
              "      <td>38.8</td>\n",
              "      <td>0.06</td>\n",
              "    </tr>\n",
              "    <tr>\n",
              "      <th>2</th>\n",
              "      <td>5.93</td>\n",
              "      <td>10.8</td>\n",
              "      <td>12.0</td>\n",
              "      <td>34.4</td>\n",
              "      <td>58.0</td>\n",
              "      <td>18.2</td>\n",
              "      <td>31.3</td>\n",
              "      <td>34.8</td>\n",
              "      <td>20.0</td>\n",
              "      <td>16.0</td>\n",
              "      <td>3.96</td>\n",
              "      <td>1.31</td>\n",
              "      <td>22.6</td>\n",
              "      <td>19.8</td>\n",
              "      <td>6.3</td>\n",
              "      <td>2.4</td>\n",
              "      <td>0.0</td>\n",
              "      <td>60.7</td>\n",
              "      <td>0.11</td>\n",
              "    </tr>\n",
              "    <tr>\n",
              "      <th>3</th>\n",
              "      <td>5.29</td>\n",
              "      <td>11.0</td>\n",
              "      <td>11.6</td>\n",
              "      <td>37.6</td>\n",
              "      <td>71.0</td>\n",
              "      <td>20.7</td>\n",
              "      <td>29.2</td>\n",
              "      <td>30.8</td>\n",
              "      <td>21.7</td>\n",
              "      <td>16.9</td>\n",
              "      <td>3.07</td>\n",
              "      <td>1.42</td>\n",
              "      <td>25.9</td>\n",
              "      <td>22.0</td>\n",
              "      <td>0.7</td>\n",
              "      <td>15.3</td>\n",
              "      <td>0.1</td>\n",
              "      <td>15.4</td>\n",
              "      <td>0.08</td>\n",
              "    </tr>\n",
              "    <tr>\n",
              "      <th>4</th>\n",
              "      <td>5.79</td>\n",
              "      <td>11.0</td>\n",
              "      <td>11.9</td>\n",
              "      <td>37.0</td>\n",
              "      <td>63.9</td>\n",
              "      <td>19.0</td>\n",
              "      <td>29.7</td>\n",
              "      <td>32.2</td>\n",
              "      <td>20.4</td>\n",
              "      <td>16.6</td>\n",
              "      <td>3.36</td>\n",
              "      <td>1.06</td>\n",
              "      <td>24.5</td>\n",
              "      <td>20.7</td>\n",
              "      <td>1.4</td>\n",
              "      <td>8.2</td>\n",
              "      <td>0.0</td>\n",
              "      <td>36.8</td>\n",
              "      <td>0.05</td>\n",
              "    </tr>\n",
              "  </tbody>\n",
              "</table>\n",
              "</div>\n",
              "      <button class=\"colab-df-convert\" onclick=\"convertToInteractive('df-1297febf-4456-4150-89e6-7ed71fc291ac')\"\n",
              "              title=\"Convert this dataframe to an interactive table.\"\n",
              "              style=\"display:none;\">\n",
              "        \n",
              "  <svg xmlns=\"http://www.w3.org/2000/svg\" height=\"24px\"viewBox=\"0 0 24 24\"\n",
              "       width=\"24px\">\n",
              "    <path d=\"M0 0h24v24H0V0z\" fill=\"none\"/>\n",
              "    <path d=\"M18.56 5.44l.94 2.06.94-2.06 2.06-.94-2.06-.94-.94-2.06-.94 2.06-2.06.94zm-11 1L8.5 8.5l.94-2.06 2.06-.94-2.06-.94L8.5 2.5l-.94 2.06-2.06.94zm10 10l.94 2.06.94-2.06 2.06-.94-2.06-.94-.94-2.06-.94 2.06-2.06.94z\"/><path d=\"M17.41 7.96l-1.37-1.37c-.4-.4-.92-.59-1.43-.59-.52 0-1.04.2-1.43.59L10.3 9.45l-7.72 7.72c-.78.78-.78 2.05 0 2.83L4 21.41c.39.39.9.59 1.41.59.51 0 1.02-.2 1.41-.59l7.78-7.78 2.81-2.81c.8-.78.8-2.07 0-2.86zM5.41 20L4 18.59l7.72-7.72 1.47 1.35L5.41 20z\"/>\n",
              "  </svg>\n",
              "      </button>\n",
              "      \n",
              "  <style>\n",
              "    .colab-df-container {\n",
              "      display:flex;\n",
              "      flex-wrap:wrap;\n",
              "      gap: 12px;\n",
              "    }\n",
              "\n",
              "    .colab-df-convert {\n",
              "      background-color: #E8F0FE;\n",
              "      border: none;\n",
              "      border-radius: 50%;\n",
              "      cursor: pointer;\n",
              "      display: none;\n",
              "      fill: #1967D2;\n",
              "      height: 32px;\n",
              "      padding: 0 0 0 0;\n",
              "      width: 32px;\n",
              "    }\n",
              "\n",
              "    .colab-df-convert:hover {\n",
              "      background-color: #E2EBFA;\n",
              "      box-shadow: 0px 1px 2px rgba(60, 64, 67, 0.3), 0px 1px 3px 1px rgba(60, 64, 67, 0.15);\n",
              "      fill: #174EA6;\n",
              "    }\n",
              "\n",
              "    [theme=dark] .colab-df-convert {\n",
              "      background-color: #3B4455;\n",
              "      fill: #D2E3FC;\n",
              "    }\n",
              "\n",
              "    [theme=dark] .colab-df-convert:hover {\n",
              "      background-color: #434B5C;\n",
              "      box-shadow: 0px 1px 3px 1px rgba(0, 0, 0, 0.15);\n",
              "      filter: drop-shadow(0px 1px 2px rgba(0, 0, 0, 0.3));\n",
              "      fill: #FFFFFF;\n",
              "    }\n",
              "  </style>\n",
              "\n",
              "      <script>\n",
              "        const buttonEl =\n",
              "          document.querySelector('#df-1297febf-4456-4150-89e6-7ed71fc291ac button.colab-df-convert');\n",
              "        buttonEl.style.display =\n",
              "          google.colab.kernel.accessAllowed ? 'block' : 'none';\n",
              "\n",
              "        async function convertToInteractive(key) {\n",
              "          const element = document.querySelector('#df-1297febf-4456-4150-89e6-7ed71fc291ac');\n",
              "          const dataTable =\n",
              "            await google.colab.kernel.invokeFunction('convertToInteractive',\n",
              "                                                     [key], {});\n",
              "          if (!dataTable) return;\n",
              "\n",
              "          const docLinkHtml = 'Like what you see? Visit the ' +\n",
              "            '<a target=\"_blank\" href=https://colab.research.google.com/notebooks/data_table.ipynb>data table notebook</a>'\n",
              "            + ' to learn more about interactive tables.';\n",
              "          element.innerHTML = '';\n",
              "          dataTable['output_type'] = 'display_data';\n",
              "          await google.colab.output.renderOutput(dataTable, element);\n",
              "          const docLink = document.createElement('div');\n",
              "          docLink.innerHTML = docLinkHtml;\n",
              "          element.appendChild(docLink);\n",
              "        }\n",
              "      </script>\n",
              "    </div>\n",
              "  </div>\n",
              "  "
            ]
          },
          "metadata": {},
          "execution_count": 12
        }
      ]
    },
    {
      "cell_type": "markdown",
      "source": [
        "Fixing the values"
      ],
      "metadata": {
        "id": "onxpU0j9orjC"
      }
    },
    {
      "cell_type": "code",
      "source": [
        "# Calculate averages and standard deviation for each column\n",
        "column_averages = df2_copy.mean()\n",
        "column_std = df2_copy.std()"
      ],
      "metadata": {
        "id": "Hdb2rsU61gNt"
      },
      "execution_count": null,
      "outputs": []
    },
    {
      "cell_type": "code",
      "source": [
        "# Replace null values with column averages\n",
        "df2_copy = df2_copy.fillna(column_averages)"
      ],
      "metadata": {
        "id": "YnWhl7qX1tP5"
      },
      "execution_count": null,
      "outputs": []
    },
    {
      "cell_type": "code",
      "source": [
        "threshold = 2 * column_std\n",
        "\n",
        "# Replace outlier values with column averages\n",
        "for column in df2_copy.columns:\n",
        "    outlier_mask = (df2_copy[column] - column_averages[column]).abs() > threshold[column]\n",
        "    df2_copy.loc[outlier_mask, column] = column_averages[column]"
      ],
      "metadata": {
        "id": "nl8RSOKk1k23"
      },
      "execution_count": null,
      "outputs": []
    },
    {
      "cell_type": "code",
      "source": [
        "df2.head()"
      ],
      "metadata": {
        "colab": {
          "base_uri": "https://localhost:8080/",
          "height": 206
        },
        "id": "wnmH7Gf4EK_R",
        "outputId": "06b50cf4-a995-4068-9903-4e5dd4f148b9"
      },
      "execution_count": null,
      "outputs": [
        {
          "output_type": "execute_result",
          "data": {
            "text/plain": [
              "    RBC   HGB  Cellular HGB   HCT   MCV   MCH  MCHC  CHCM    CH   RDW   HDW  \\\n",
              "0  3.78   9.0          10.1  29.4  77.7  23.8  30.7  34.2  25.9  21.1  7.23   \n",
              "1  5.94  10.3          12.0  37.5  63.1  17.4  27.5  32.1  20.1  15.9  3.59   \n",
              "2  5.93  10.8          12.0  34.4  58.0  18.2  31.3  34.8  20.0  16.0  3.96   \n",
              "3  5.29  11.0          11.6  37.6  71.0  20.7  29.2  30.8  21.7  16.9  3.07   \n",
              "4  5.79  11.0          11.9  37.0  63.9  19.0  29.7  32.2  20.4  16.6  3.36   \n",
              "\n",
              "   Retic %   CHr   CHm  RBC % Hyper  RBC % Hypo  RBC % Macro  RBC % Micro  \\\n",
              "0     2.16  28.5  25.5         18.2        20.7          1.2         11.9   \n",
              "1     1.38  23.1  20.3          2.0         9.3          0.0         38.8   \n",
              "2     1.31  22.6  19.8          6.3         2.4          0.0         60.7   \n",
              "3     1.42  25.9  22.0          0.7        15.3          0.1         15.4   \n",
              "4     1.06  24.5  20.7          1.4         8.2          0.0         36.8   \n",
              "\n",
              "   RBC Fragment  Diagnosis  \n",
              "0          0.04          1  \n",
              "1          0.06          1  \n",
              "2          0.11          1  \n",
              "3          0.08          1  \n",
              "4          0.05          1  "
            ],
            "text/html": [
              "\n",
              "  <div id=\"df-99d9feb6-c9b9-4ca4-bf6f-89e6b842677f\">\n",
              "    <div class=\"colab-df-container\">\n",
              "      <div>\n",
              "<style scoped>\n",
              "    .dataframe tbody tr th:only-of-type {\n",
              "        vertical-align: middle;\n",
              "    }\n",
              "\n",
              "    .dataframe tbody tr th {\n",
              "        vertical-align: top;\n",
              "    }\n",
              "\n",
              "    .dataframe thead th {\n",
              "        text-align: right;\n",
              "    }\n",
              "</style>\n",
              "<table border=\"1\" class=\"dataframe\">\n",
              "  <thead>\n",
              "    <tr style=\"text-align: right;\">\n",
              "      <th></th>\n",
              "      <th>RBC</th>\n",
              "      <th>HGB</th>\n",
              "      <th>Cellular HGB</th>\n",
              "      <th>HCT</th>\n",
              "      <th>MCV</th>\n",
              "      <th>MCH</th>\n",
              "      <th>MCHC</th>\n",
              "      <th>CHCM</th>\n",
              "      <th>CH</th>\n",
              "      <th>RDW</th>\n",
              "      <th>HDW</th>\n",
              "      <th>Retic %</th>\n",
              "      <th>CHr</th>\n",
              "      <th>CHm</th>\n",
              "      <th>RBC % Hyper</th>\n",
              "      <th>RBC % Hypo</th>\n",
              "      <th>RBC % Macro</th>\n",
              "      <th>RBC % Micro</th>\n",
              "      <th>RBC Fragment</th>\n",
              "      <th>Diagnosis</th>\n",
              "    </tr>\n",
              "  </thead>\n",
              "  <tbody>\n",
              "    <tr>\n",
              "      <th>0</th>\n",
              "      <td>3.78</td>\n",
              "      <td>9.0</td>\n",
              "      <td>10.1</td>\n",
              "      <td>29.4</td>\n",
              "      <td>77.7</td>\n",
              "      <td>23.8</td>\n",
              "      <td>30.7</td>\n",
              "      <td>34.2</td>\n",
              "      <td>25.9</td>\n",
              "      <td>21.1</td>\n",
              "      <td>7.23</td>\n",
              "      <td>2.16</td>\n",
              "      <td>28.5</td>\n",
              "      <td>25.5</td>\n",
              "      <td>18.2</td>\n",
              "      <td>20.7</td>\n",
              "      <td>1.2</td>\n",
              "      <td>11.9</td>\n",
              "      <td>0.04</td>\n",
              "      <td>1</td>\n",
              "    </tr>\n",
              "    <tr>\n",
              "      <th>1</th>\n",
              "      <td>5.94</td>\n",
              "      <td>10.3</td>\n",
              "      <td>12.0</td>\n",
              "      <td>37.5</td>\n",
              "      <td>63.1</td>\n",
              "      <td>17.4</td>\n",
              "      <td>27.5</td>\n",
              "      <td>32.1</td>\n",
              "      <td>20.1</td>\n",
              "      <td>15.9</td>\n",
              "      <td>3.59</td>\n",
              "      <td>1.38</td>\n",
              "      <td>23.1</td>\n",
              "      <td>20.3</td>\n",
              "      <td>2.0</td>\n",
              "      <td>9.3</td>\n",
              "      <td>0.0</td>\n",
              "      <td>38.8</td>\n",
              "      <td>0.06</td>\n",
              "      <td>1</td>\n",
              "    </tr>\n",
              "    <tr>\n",
              "      <th>2</th>\n",
              "      <td>5.93</td>\n",
              "      <td>10.8</td>\n",
              "      <td>12.0</td>\n",
              "      <td>34.4</td>\n",
              "      <td>58.0</td>\n",
              "      <td>18.2</td>\n",
              "      <td>31.3</td>\n",
              "      <td>34.8</td>\n",
              "      <td>20.0</td>\n",
              "      <td>16.0</td>\n",
              "      <td>3.96</td>\n",
              "      <td>1.31</td>\n",
              "      <td>22.6</td>\n",
              "      <td>19.8</td>\n",
              "      <td>6.3</td>\n",
              "      <td>2.4</td>\n",
              "      <td>0.0</td>\n",
              "      <td>60.7</td>\n",
              "      <td>0.11</td>\n",
              "      <td>1</td>\n",
              "    </tr>\n",
              "    <tr>\n",
              "      <th>3</th>\n",
              "      <td>5.29</td>\n",
              "      <td>11.0</td>\n",
              "      <td>11.6</td>\n",
              "      <td>37.6</td>\n",
              "      <td>71.0</td>\n",
              "      <td>20.7</td>\n",
              "      <td>29.2</td>\n",
              "      <td>30.8</td>\n",
              "      <td>21.7</td>\n",
              "      <td>16.9</td>\n",
              "      <td>3.07</td>\n",
              "      <td>1.42</td>\n",
              "      <td>25.9</td>\n",
              "      <td>22.0</td>\n",
              "      <td>0.7</td>\n",
              "      <td>15.3</td>\n",
              "      <td>0.1</td>\n",
              "      <td>15.4</td>\n",
              "      <td>0.08</td>\n",
              "      <td>1</td>\n",
              "    </tr>\n",
              "    <tr>\n",
              "      <th>4</th>\n",
              "      <td>5.79</td>\n",
              "      <td>11.0</td>\n",
              "      <td>11.9</td>\n",
              "      <td>37.0</td>\n",
              "      <td>63.9</td>\n",
              "      <td>19.0</td>\n",
              "      <td>29.7</td>\n",
              "      <td>32.2</td>\n",
              "      <td>20.4</td>\n",
              "      <td>16.6</td>\n",
              "      <td>3.36</td>\n",
              "      <td>1.06</td>\n",
              "      <td>24.5</td>\n",
              "      <td>20.7</td>\n",
              "      <td>1.4</td>\n",
              "      <td>8.2</td>\n",
              "      <td>0.0</td>\n",
              "      <td>36.8</td>\n",
              "      <td>0.05</td>\n",
              "      <td>1</td>\n",
              "    </tr>\n",
              "  </tbody>\n",
              "</table>\n",
              "</div>\n",
              "      <button class=\"colab-df-convert\" onclick=\"convertToInteractive('df-99d9feb6-c9b9-4ca4-bf6f-89e6b842677f')\"\n",
              "              title=\"Convert this dataframe to an interactive table.\"\n",
              "              style=\"display:none;\">\n",
              "        \n",
              "  <svg xmlns=\"http://www.w3.org/2000/svg\" height=\"24px\"viewBox=\"0 0 24 24\"\n",
              "       width=\"24px\">\n",
              "    <path d=\"M0 0h24v24H0V0z\" fill=\"none\"/>\n",
              "    <path d=\"M18.56 5.44l.94 2.06.94-2.06 2.06-.94-2.06-.94-.94-2.06-.94 2.06-2.06.94zm-11 1L8.5 8.5l.94-2.06 2.06-.94-2.06-.94L8.5 2.5l-.94 2.06-2.06.94zm10 10l.94 2.06.94-2.06 2.06-.94-2.06-.94-.94-2.06-.94 2.06-2.06.94z\"/><path d=\"M17.41 7.96l-1.37-1.37c-.4-.4-.92-.59-1.43-.59-.52 0-1.04.2-1.43.59L10.3 9.45l-7.72 7.72c-.78.78-.78 2.05 0 2.83L4 21.41c.39.39.9.59 1.41.59.51 0 1.02-.2 1.41-.59l7.78-7.78 2.81-2.81c.8-.78.8-2.07 0-2.86zM5.41 20L4 18.59l7.72-7.72 1.47 1.35L5.41 20z\"/>\n",
              "  </svg>\n",
              "      </button>\n",
              "      \n",
              "  <style>\n",
              "    .colab-df-container {\n",
              "      display:flex;\n",
              "      flex-wrap:wrap;\n",
              "      gap: 12px;\n",
              "    }\n",
              "\n",
              "    .colab-df-convert {\n",
              "      background-color: #E8F0FE;\n",
              "      border: none;\n",
              "      border-radius: 50%;\n",
              "      cursor: pointer;\n",
              "      display: none;\n",
              "      fill: #1967D2;\n",
              "      height: 32px;\n",
              "      padding: 0 0 0 0;\n",
              "      width: 32px;\n",
              "    }\n",
              "\n",
              "    .colab-df-convert:hover {\n",
              "      background-color: #E2EBFA;\n",
              "      box-shadow: 0px 1px 2px rgba(60, 64, 67, 0.3), 0px 1px 3px 1px rgba(60, 64, 67, 0.15);\n",
              "      fill: #174EA6;\n",
              "    }\n",
              "\n",
              "    [theme=dark] .colab-df-convert {\n",
              "      background-color: #3B4455;\n",
              "      fill: #D2E3FC;\n",
              "    }\n",
              "\n",
              "    [theme=dark] .colab-df-convert:hover {\n",
              "      background-color: #434B5C;\n",
              "      box-shadow: 0px 1px 3px 1px rgba(0, 0, 0, 0.15);\n",
              "      filter: drop-shadow(0px 1px 2px rgba(0, 0, 0, 0.3));\n",
              "      fill: #FFFFFF;\n",
              "    }\n",
              "  </style>\n",
              "\n",
              "      <script>\n",
              "        const buttonEl =\n",
              "          document.querySelector('#df-99d9feb6-c9b9-4ca4-bf6f-89e6b842677f button.colab-df-convert');\n",
              "        buttonEl.style.display =\n",
              "          google.colab.kernel.accessAllowed ? 'block' : 'none';\n",
              "\n",
              "        async function convertToInteractive(key) {\n",
              "          const element = document.querySelector('#df-99d9feb6-c9b9-4ca4-bf6f-89e6b842677f');\n",
              "          const dataTable =\n",
              "            await google.colab.kernel.invokeFunction('convertToInteractive',\n",
              "                                                     [key], {});\n",
              "          if (!dataTable) return;\n",
              "\n",
              "          const docLinkHtml = 'Like what you see? Visit the ' +\n",
              "            '<a target=\"_blank\" href=https://colab.research.google.com/notebooks/data_table.ipynb>data table notebook</a>'\n",
              "            + ' to learn more about interactive tables.';\n",
              "          element.innerHTML = '';\n",
              "          dataTable['output_type'] = 'display_data';\n",
              "          await google.colab.output.renderOutput(dataTable, element);\n",
              "          const docLink = document.createElement('div');\n",
              "          docLink.innerHTML = docLinkHtml;\n",
              "          element.appendChild(docLink);\n",
              "        }\n",
              "      </script>\n",
              "    </div>\n",
              "  </div>\n",
              "  "
            ]
          },
          "metadata": {},
          "execution_count": 17
        }
      ]
    },
    {
      "cell_type": "code",
      "source": [
        "df2_copy.head()"
      ],
      "metadata": {
        "colab": {
          "base_uri": "https://localhost:8080/",
          "height": 267
        },
        "id": "3kYy2f12E4ZN",
        "outputId": "5026810f-64fc-41bb-ec79-08a7a4925420"
      },
      "execution_count": null,
      "outputs": [
        {
          "output_type": "execute_result",
          "data": {
            "text/plain": [
              "        RBC   HGB  Cellular HGB       HCT        MCV        MCH      MCHC  \\\n",
              "0  5.171593   9.0          10.1  38.19646  77.700000  23.800000  30.70000   \n",
              "1  5.940000  10.3          12.0  37.50000  74.131858  22.627434  30.49115   \n",
              "2  5.930000  10.8          12.0  34.40000  74.131858  18.200000  31.30000   \n",
              "3  5.290000  11.0          11.6  37.60000  71.000000  20.700000  29.20000   \n",
              "4  5.790000  11.0          11.9  37.00000  63.900000  19.000000  29.70000   \n",
              "\n",
              "   CHCM    CH        RDW       HDW  Retic %   CHr   CHm  RBC % Hyper  \\\n",
              "0  34.2  25.9  16.380531  2.992871     2.16  28.5  25.5     1.102655   \n",
              "1  32.1  20.1  15.900000  3.590000     1.38  23.1  20.3     2.000000   \n",
              "2  34.8  20.0  16.000000  3.960000     1.31  22.6  19.8     1.102655   \n",
              "3  30.8  21.7  16.900000  3.070000     1.42  25.9  22.0     0.700000   \n",
              "4  32.2  20.4  16.600000  3.360000     1.06  24.5  20.7     1.400000   \n",
              "\n",
              "   RBC % Hypo  RBC % Macro  RBC % Micro  RBC Fragment  \n",
              "0        20.7     0.060177    11.900000      0.040000  \n",
              "1         9.3     0.000000    13.702655      0.060000  \n",
              "2         2.4     0.000000    13.702655      0.041593  \n",
              "3        15.3     0.100000    15.400000      0.080000  \n",
              "4         8.2     0.000000    13.702655      0.050000  "
            ],
            "text/html": [
              "\n",
              "  <div id=\"df-6f01bd2b-6977-46e3-99d9-a03f019e57c4\">\n",
              "    <div class=\"colab-df-container\">\n",
              "      <div>\n",
              "<style scoped>\n",
              "    .dataframe tbody tr th:only-of-type {\n",
              "        vertical-align: middle;\n",
              "    }\n",
              "\n",
              "    .dataframe tbody tr th {\n",
              "        vertical-align: top;\n",
              "    }\n",
              "\n",
              "    .dataframe thead th {\n",
              "        text-align: right;\n",
              "    }\n",
              "</style>\n",
              "<table border=\"1\" class=\"dataframe\">\n",
              "  <thead>\n",
              "    <tr style=\"text-align: right;\">\n",
              "      <th></th>\n",
              "      <th>RBC</th>\n",
              "      <th>HGB</th>\n",
              "      <th>Cellular HGB</th>\n",
              "      <th>HCT</th>\n",
              "      <th>MCV</th>\n",
              "      <th>MCH</th>\n",
              "      <th>MCHC</th>\n",
              "      <th>CHCM</th>\n",
              "      <th>CH</th>\n",
              "      <th>RDW</th>\n",
              "      <th>HDW</th>\n",
              "      <th>Retic %</th>\n",
              "      <th>CHr</th>\n",
              "      <th>CHm</th>\n",
              "      <th>RBC % Hyper</th>\n",
              "      <th>RBC % Hypo</th>\n",
              "      <th>RBC % Macro</th>\n",
              "      <th>RBC % Micro</th>\n",
              "      <th>RBC Fragment</th>\n",
              "    </tr>\n",
              "  </thead>\n",
              "  <tbody>\n",
              "    <tr>\n",
              "      <th>0</th>\n",
              "      <td>5.171593</td>\n",
              "      <td>9.0</td>\n",
              "      <td>10.1</td>\n",
              "      <td>38.19646</td>\n",
              "      <td>77.700000</td>\n",
              "      <td>23.800000</td>\n",
              "      <td>30.70000</td>\n",
              "      <td>34.2</td>\n",
              "      <td>25.9</td>\n",
              "      <td>16.380531</td>\n",
              "      <td>2.992871</td>\n",
              "      <td>2.16</td>\n",
              "      <td>28.5</td>\n",
              "      <td>25.5</td>\n",
              "      <td>1.102655</td>\n",
              "      <td>20.7</td>\n",
              "      <td>0.060177</td>\n",
              "      <td>11.900000</td>\n",
              "      <td>0.040000</td>\n",
              "    </tr>\n",
              "    <tr>\n",
              "      <th>1</th>\n",
              "      <td>5.940000</td>\n",
              "      <td>10.3</td>\n",
              "      <td>12.0</td>\n",
              "      <td>37.50000</td>\n",
              "      <td>74.131858</td>\n",
              "      <td>22.627434</td>\n",
              "      <td>30.49115</td>\n",
              "      <td>32.1</td>\n",
              "      <td>20.1</td>\n",
              "      <td>15.900000</td>\n",
              "      <td>3.590000</td>\n",
              "      <td>1.38</td>\n",
              "      <td>23.1</td>\n",
              "      <td>20.3</td>\n",
              "      <td>2.000000</td>\n",
              "      <td>9.3</td>\n",
              "      <td>0.000000</td>\n",
              "      <td>13.702655</td>\n",
              "      <td>0.060000</td>\n",
              "    </tr>\n",
              "    <tr>\n",
              "      <th>2</th>\n",
              "      <td>5.930000</td>\n",
              "      <td>10.8</td>\n",
              "      <td>12.0</td>\n",
              "      <td>34.40000</td>\n",
              "      <td>74.131858</td>\n",
              "      <td>18.200000</td>\n",
              "      <td>31.30000</td>\n",
              "      <td>34.8</td>\n",
              "      <td>20.0</td>\n",
              "      <td>16.000000</td>\n",
              "      <td>3.960000</td>\n",
              "      <td>1.31</td>\n",
              "      <td>22.6</td>\n",
              "      <td>19.8</td>\n",
              "      <td>1.102655</td>\n",
              "      <td>2.4</td>\n",
              "      <td>0.000000</td>\n",
              "      <td>13.702655</td>\n",
              "      <td>0.041593</td>\n",
              "    </tr>\n",
              "    <tr>\n",
              "      <th>3</th>\n",
              "      <td>5.290000</td>\n",
              "      <td>11.0</td>\n",
              "      <td>11.6</td>\n",
              "      <td>37.60000</td>\n",
              "      <td>71.000000</td>\n",
              "      <td>20.700000</td>\n",
              "      <td>29.20000</td>\n",
              "      <td>30.8</td>\n",
              "      <td>21.7</td>\n",
              "      <td>16.900000</td>\n",
              "      <td>3.070000</td>\n",
              "      <td>1.42</td>\n",
              "      <td>25.9</td>\n",
              "      <td>22.0</td>\n",
              "      <td>0.700000</td>\n",
              "      <td>15.3</td>\n",
              "      <td>0.100000</td>\n",
              "      <td>15.400000</td>\n",
              "      <td>0.080000</td>\n",
              "    </tr>\n",
              "    <tr>\n",
              "      <th>4</th>\n",
              "      <td>5.790000</td>\n",
              "      <td>11.0</td>\n",
              "      <td>11.9</td>\n",
              "      <td>37.00000</td>\n",
              "      <td>63.900000</td>\n",
              "      <td>19.000000</td>\n",
              "      <td>29.70000</td>\n",
              "      <td>32.2</td>\n",
              "      <td>20.4</td>\n",
              "      <td>16.600000</td>\n",
              "      <td>3.360000</td>\n",
              "      <td>1.06</td>\n",
              "      <td>24.5</td>\n",
              "      <td>20.7</td>\n",
              "      <td>1.400000</td>\n",
              "      <td>8.2</td>\n",
              "      <td>0.000000</td>\n",
              "      <td>13.702655</td>\n",
              "      <td>0.050000</td>\n",
              "    </tr>\n",
              "  </tbody>\n",
              "</table>\n",
              "</div>\n",
              "      <button class=\"colab-df-convert\" onclick=\"convertToInteractive('df-6f01bd2b-6977-46e3-99d9-a03f019e57c4')\"\n",
              "              title=\"Convert this dataframe to an interactive table.\"\n",
              "              style=\"display:none;\">\n",
              "        \n",
              "  <svg xmlns=\"http://www.w3.org/2000/svg\" height=\"24px\"viewBox=\"0 0 24 24\"\n",
              "       width=\"24px\">\n",
              "    <path d=\"M0 0h24v24H0V0z\" fill=\"none\"/>\n",
              "    <path d=\"M18.56 5.44l.94 2.06.94-2.06 2.06-.94-2.06-.94-.94-2.06-.94 2.06-2.06.94zm-11 1L8.5 8.5l.94-2.06 2.06-.94-2.06-.94L8.5 2.5l-.94 2.06-2.06.94zm10 10l.94 2.06.94-2.06 2.06-.94-2.06-.94-.94-2.06-.94 2.06-2.06.94z\"/><path d=\"M17.41 7.96l-1.37-1.37c-.4-.4-.92-.59-1.43-.59-.52 0-1.04.2-1.43.59L10.3 9.45l-7.72 7.72c-.78.78-.78 2.05 0 2.83L4 21.41c.39.39.9.59 1.41.59.51 0 1.02-.2 1.41-.59l7.78-7.78 2.81-2.81c.8-.78.8-2.07 0-2.86zM5.41 20L4 18.59l7.72-7.72 1.47 1.35L5.41 20z\"/>\n",
              "  </svg>\n",
              "      </button>\n",
              "      \n",
              "  <style>\n",
              "    .colab-df-container {\n",
              "      display:flex;\n",
              "      flex-wrap:wrap;\n",
              "      gap: 12px;\n",
              "    }\n",
              "\n",
              "    .colab-df-convert {\n",
              "      background-color: #E8F0FE;\n",
              "      border: none;\n",
              "      border-radius: 50%;\n",
              "      cursor: pointer;\n",
              "      display: none;\n",
              "      fill: #1967D2;\n",
              "      height: 32px;\n",
              "      padding: 0 0 0 0;\n",
              "      width: 32px;\n",
              "    }\n",
              "\n",
              "    .colab-df-convert:hover {\n",
              "      background-color: #E2EBFA;\n",
              "      box-shadow: 0px 1px 2px rgba(60, 64, 67, 0.3), 0px 1px 3px 1px rgba(60, 64, 67, 0.15);\n",
              "      fill: #174EA6;\n",
              "    }\n",
              "\n",
              "    [theme=dark] .colab-df-convert {\n",
              "      background-color: #3B4455;\n",
              "      fill: #D2E3FC;\n",
              "    }\n",
              "\n",
              "    [theme=dark] .colab-df-convert:hover {\n",
              "      background-color: #434B5C;\n",
              "      box-shadow: 0px 1px 3px 1px rgba(0, 0, 0, 0.15);\n",
              "      filter: drop-shadow(0px 1px 2px rgba(0, 0, 0, 0.3));\n",
              "      fill: #FFFFFF;\n",
              "    }\n",
              "  </style>\n",
              "\n",
              "      <script>\n",
              "        const buttonEl =\n",
              "          document.querySelector('#df-6f01bd2b-6977-46e3-99d9-a03f019e57c4 button.colab-df-convert');\n",
              "        buttonEl.style.display =\n",
              "          google.colab.kernel.accessAllowed ? 'block' : 'none';\n",
              "\n",
              "        async function convertToInteractive(key) {\n",
              "          const element = document.querySelector('#df-6f01bd2b-6977-46e3-99d9-a03f019e57c4');\n",
              "          const dataTable =\n",
              "            await google.colab.kernel.invokeFunction('convertToInteractive',\n",
              "                                                     [key], {});\n",
              "          if (!dataTable) return;\n",
              "\n",
              "          const docLinkHtml = 'Like what you see? Visit the ' +\n",
              "            '<a target=\"_blank\" href=https://colab.research.google.com/notebooks/data_table.ipynb>data table notebook</a>'\n",
              "            + ' to learn more about interactive tables.';\n",
              "          element.innerHTML = '';\n",
              "          dataTable['output_type'] = 'display_data';\n",
              "          await google.colab.output.renderOutput(dataTable, element);\n",
              "          const docLink = document.createElement('div');\n",
              "          docLink.innerHTML = docLinkHtml;\n",
              "          element.appendChild(docLink);\n",
              "        }\n",
              "      </script>\n",
              "    </div>\n",
              "  </div>\n",
              "  "
            ]
          },
          "metadata": {},
          "execution_count": 18
        }
      ]
    },
    {
      "cell_type": "code",
      "source": [
        "df2_updated = df2_copy.copy()"
      ],
      "metadata": {
        "id": "bfng31rYE94e"
      },
      "execution_count": null,
      "outputs": []
    },
    {
      "cell_type": "code",
      "source": [
        "# Combine outlier handling with original diagnosis data\n",
        "df2_updated[\"Diagnosis\"] = df2[\"Diagnosis\"]"
      ],
      "metadata": {
        "id": "136upcHOFPNR"
      },
      "execution_count": null,
      "outputs": []
    },
    {
      "cell_type": "code",
      "source": [
        "df2_updated.head()"
      ],
      "metadata": {
        "colab": {
          "base_uri": "https://localhost:8080/",
          "height": 267
        },
        "id": "IK8nzprTFY__",
        "outputId": "53c2cf9c-81d1-4f8d-a86f-066904357b35"
      },
      "execution_count": null,
      "outputs": [
        {
          "output_type": "execute_result",
          "data": {
            "text/plain": [
              "        RBC   HGB  Cellular HGB       HCT        MCV        MCH      MCHC  \\\n",
              "0  5.171593   9.0          10.1  38.19646  77.700000  23.800000  30.70000   \n",
              "1  5.940000  10.3          12.0  37.50000  74.131858  22.627434  30.49115   \n",
              "2  5.930000  10.8          12.0  34.40000  74.131858  18.200000  31.30000   \n",
              "3  5.290000  11.0          11.6  37.60000  71.000000  20.700000  29.20000   \n",
              "4  5.790000  11.0          11.9  37.00000  63.900000  19.000000  29.70000   \n",
              "\n",
              "   CHCM    CH        RDW       HDW  Retic %   CHr   CHm  RBC % Hyper  \\\n",
              "0  34.2  25.9  16.380531  2.992871     2.16  28.5  25.5     1.102655   \n",
              "1  32.1  20.1  15.900000  3.590000     1.38  23.1  20.3     2.000000   \n",
              "2  34.8  20.0  16.000000  3.960000     1.31  22.6  19.8     1.102655   \n",
              "3  30.8  21.7  16.900000  3.070000     1.42  25.9  22.0     0.700000   \n",
              "4  32.2  20.4  16.600000  3.360000     1.06  24.5  20.7     1.400000   \n",
              "\n",
              "   RBC % Hypo  RBC % Macro  RBC % Micro  RBC Fragment  Diagnosis  \n",
              "0        20.7     0.060177    11.900000      0.040000          1  \n",
              "1         9.3     0.000000    13.702655      0.060000          1  \n",
              "2         2.4     0.000000    13.702655      0.041593          1  \n",
              "3        15.3     0.100000    15.400000      0.080000          1  \n",
              "4         8.2     0.000000    13.702655      0.050000          1  "
            ],
            "text/html": [
              "\n",
              "  <div id=\"df-8770a9ac-f918-4164-95be-c97fd7d04b3d\">\n",
              "    <div class=\"colab-df-container\">\n",
              "      <div>\n",
              "<style scoped>\n",
              "    .dataframe tbody tr th:only-of-type {\n",
              "        vertical-align: middle;\n",
              "    }\n",
              "\n",
              "    .dataframe tbody tr th {\n",
              "        vertical-align: top;\n",
              "    }\n",
              "\n",
              "    .dataframe thead th {\n",
              "        text-align: right;\n",
              "    }\n",
              "</style>\n",
              "<table border=\"1\" class=\"dataframe\">\n",
              "  <thead>\n",
              "    <tr style=\"text-align: right;\">\n",
              "      <th></th>\n",
              "      <th>RBC</th>\n",
              "      <th>HGB</th>\n",
              "      <th>Cellular HGB</th>\n",
              "      <th>HCT</th>\n",
              "      <th>MCV</th>\n",
              "      <th>MCH</th>\n",
              "      <th>MCHC</th>\n",
              "      <th>CHCM</th>\n",
              "      <th>CH</th>\n",
              "      <th>RDW</th>\n",
              "      <th>HDW</th>\n",
              "      <th>Retic %</th>\n",
              "      <th>CHr</th>\n",
              "      <th>CHm</th>\n",
              "      <th>RBC % Hyper</th>\n",
              "      <th>RBC % Hypo</th>\n",
              "      <th>RBC % Macro</th>\n",
              "      <th>RBC % Micro</th>\n",
              "      <th>RBC Fragment</th>\n",
              "      <th>Diagnosis</th>\n",
              "    </tr>\n",
              "  </thead>\n",
              "  <tbody>\n",
              "    <tr>\n",
              "      <th>0</th>\n",
              "      <td>5.171593</td>\n",
              "      <td>9.0</td>\n",
              "      <td>10.1</td>\n",
              "      <td>38.19646</td>\n",
              "      <td>77.700000</td>\n",
              "      <td>23.800000</td>\n",
              "      <td>30.70000</td>\n",
              "      <td>34.2</td>\n",
              "      <td>25.9</td>\n",
              "      <td>16.380531</td>\n",
              "      <td>2.992871</td>\n",
              "      <td>2.16</td>\n",
              "      <td>28.5</td>\n",
              "      <td>25.5</td>\n",
              "      <td>1.102655</td>\n",
              "      <td>20.7</td>\n",
              "      <td>0.060177</td>\n",
              "      <td>11.900000</td>\n",
              "      <td>0.040000</td>\n",
              "      <td>1</td>\n",
              "    </tr>\n",
              "    <tr>\n",
              "      <th>1</th>\n",
              "      <td>5.940000</td>\n",
              "      <td>10.3</td>\n",
              "      <td>12.0</td>\n",
              "      <td>37.50000</td>\n",
              "      <td>74.131858</td>\n",
              "      <td>22.627434</td>\n",
              "      <td>30.49115</td>\n",
              "      <td>32.1</td>\n",
              "      <td>20.1</td>\n",
              "      <td>15.900000</td>\n",
              "      <td>3.590000</td>\n",
              "      <td>1.38</td>\n",
              "      <td>23.1</td>\n",
              "      <td>20.3</td>\n",
              "      <td>2.000000</td>\n",
              "      <td>9.3</td>\n",
              "      <td>0.000000</td>\n",
              "      <td>13.702655</td>\n",
              "      <td>0.060000</td>\n",
              "      <td>1</td>\n",
              "    </tr>\n",
              "    <tr>\n",
              "      <th>2</th>\n",
              "      <td>5.930000</td>\n",
              "      <td>10.8</td>\n",
              "      <td>12.0</td>\n",
              "      <td>34.40000</td>\n",
              "      <td>74.131858</td>\n",
              "      <td>18.200000</td>\n",
              "      <td>31.30000</td>\n",
              "      <td>34.8</td>\n",
              "      <td>20.0</td>\n",
              "      <td>16.000000</td>\n",
              "      <td>3.960000</td>\n",
              "      <td>1.31</td>\n",
              "      <td>22.6</td>\n",
              "      <td>19.8</td>\n",
              "      <td>1.102655</td>\n",
              "      <td>2.4</td>\n",
              "      <td>0.000000</td>\n",
              "      <td>13.702655</td>\n",
              "      <td>0.041593</td>\n",
              "      <td>1</td>\n",
              "    </tr>\n",
              "    <tr>\n",
              "      <th>3</th>\n",
              "      <td>5.290000</td>\n",
              "      <td>11.0</td>\n",
              "      <td>11.6</td>\n",
              "      <td>37.60000</td>\n",
              "      <td>71.000000</td>\n",
              "      <td>20.700000</td>\n",
              "      <td>29.20000</td>\n",
              "      <td>30.8</td>\n",
              "      <td>21.7</td>\n",
              "      <td>16.900000</td>\n",
              "      <td>3.070000</td>\n",
              "      <td>1.42</td>\n",
              "      <td>25.9</td>\n",
              "      <td>22.0</td>\n",
              "      <td>0.700000</td>\n",
              "      <td>15.3</td>\n",
              "      <td>0.100000</td>\n",
              "      <td>15.400000</td>\n",
              "      <td>0.080000</td>\n",
              "      <td>1</td>\n",
              "    </tr>\n",
              "    <tr>\n",
              "      <th>4</th>\n",
              "      <td>5.790000</td>\n",
              "      <td>11.0</td>\n",
              "      <td>11.9</td>\n",
              "      <td>37.00000</td>\n",
              "      <td>63.900000</td>\n",
              "      <td>19.000000</td>\n",
              "      <td>29.70000</td>\n",
              "      <td>32.2</td>\n",
              "      <td>20.4</td>\n",
              "      <td>16.600000</td>\n",
              "      <td>3.360000</td>\n",
              "      <td>1.06</td>\n",
              "      <td>24.5</td>\n",
              "      <td>20.7</td>\n",
              "      <td>1.400000</td>\n",
              "      <td>8.2</td>\n",
              "      <td>0.000000</td>\n",
              "      <td>13.702655</td>\n",
              "      <td>0.050000</td>\n",
              "      <td>1</td>\n",
              "    </tr>\n",
              "  </tbody>\n",
              "</table>\n",
              "</div>\n",
              "      <button class=\"colab-df-convert\" onclick=\"convertToInteractive('df-8770a9ac-f918-4164-95be-c97fd7d04b3d')\"\n",
              "              title=\"Convert this dataframe to an interactive table.\"\n",
              "              style=\"display:none;\">\n",
              "        \n",
              "  <svg xmlns=\"http://www.w3.org/2000/svg\" height=\"24px\"viewBox=\"0 0 24 24\"\n",
              "       width=\"24px\">\n",
              "    <path d=\"M0 0h24v24H0V0z\" fill=\"none\"/>\n",
              "    <path d=\"M18.56 5.44l.94 2.06.94-2.06 2.06-.94-2.06-.94-.94-2.06-.94 2.06-2.06.94zm-11 1L8.5 8.5l.94-2.06 2.06-.94-2.06-.94L8.5 2.5l-.94 2.06-2.06.94zm10 10l.94 2.06.94-2.06 2.06-.94-2.06-.94-.94-2.06-.94 2.06-2.06.94z\"/><path d=\"M17.41 7.96l-1.37-1.37c-.4-.4-.92-.59-1.43-.59-.52 0-1.04.2-1.43.59L10.3 9.45l-7.72 7.72c-.78.78-.78 2.05 0 2.83L4 21.41c.39.39.9.59 1.41.59.51 0 1.02-.2 1.41-.59l7.78-7.78 2.81-2.81c.8-.78.8-2.07 0-2.86zM5.41 20L4 18.59l7.72-7.72 1.47 1.35L5.41 20z\"/>\n",
              "  </svg>\n",
              "      </button>\n",
              "      \n",
              "  <style>\n",
              "    .colab-df-container {\n",
              "      display:flex;\n",
              "      flex-wrap:wrap;\n",
              "      gap: 12px;\n",
              "    }\n",
              "\n",
              "    .colab-df-convert {\n",
              "      background-color: #E8F0FE;\n",
              "      border: none;\n",
              "      border-radius: 50%;\n",
              "      cursor: pointer;\n",
              "      display: none;\n",
              "      fill: #1967D2;\n",
              "      height: 32px;\n",
              "      padding: 0 0 0 0;\n",
              "      width: 32px;\n",
              "    }\n",
              "\n",
              "    .colab-df-convert:hover {\n",
              "      background-color: #E2EBFA;\n",
              "      box-shadow: 0px 1px 2px rgba(60, 64, 67, 0.3), 0px 1px 3px 1px rgba(60, 64, 67, 0.15);\n",
              "      fill: #174EA6;\n",
              "    }\n",
              "\n",
              "    [theme=dark] .colab-df-convert {\n",
              "      background-color: #3B4455;\n",
              "      fill: #D2E3FC;\n",
              "    }\n",
              "\n",
              "    [theme=dark] .colab-df-convert:hover {\n",
              "      background-color: #434B5C;\n",
              "      box-shadow: 0px 1px 3px 1px rgba(0, 0, 0, 0.15);\n",
              "      filter: drop-shadow(0px 1px 2px rgba(0, 0, 0, 0.3));\n",
              "      fill: #FFFFFF;\n",
              "    }\n",
              "  </style>\n",
              "\n",
              "      <script>\n",
              "        const buttonEl =\n",
              "          document.querySelector('#df-8770a9ac-f918-4164-95be-c97fd7d04b3d button.colab-df-convert');\n",
              "        buttonEl.style.display =\n",
              "          google.colab.kernel.accessAllowed ? 'block' : 'none';\n",
              "\n",
              "        async function convertToInteractive(key) {\n",
              "          const element = document.querySelector('#df-8770a9ac-f918-4164-95be-c97fd7d04b3d');\n",
              "          const dataTable =\n",
              "            await google.colab.kernel.invokeFunction('convertToInteractive',\n",
              "                                                     [key], {});\n",
              "          if (!dataTable) return;\n",
              "\n",
              "          const docLinkHtml = 'Like what you see? Visit the ' +\n",
              "            '<a target=\"_blank\" href=https://colab.research.google.com/notebooks/data_table.ipynb>data table notebook</a>'\n",
              "            + ' to learn more about interactive tables.';\n",
              "          element.innerHTML = '';\n",
              "          dataTable['output_type'] = 'display_data';\n",
              "          await google.colab.output.renderOutput(dataTable, element);\n",
              "          const docLink = document.createElement('div');\n",
              "          docLink.innerHTML = docLinkHtml;\n",
              "          element.appendChild(docLink);\n",
              "        }\n",
              "      </script>\n",
              "    </div>\n",
              "  </div>\n",
              "  "
            ]
          },
          "metadata": {},
          "execution_count": 21
        }
      ]
    },
    {
      "cell_type": "code",
      "source": [
        "df2 = df2_updated"
      ],
      "metadata": {
        "id": "SMAVWfNfFd59"
      },
      "execution_count": null,
      "outputs": []
    },
    {
      "cell_type": "code",
      "source": [
        "feature_columns = df2.columns[df2.columns != 'Diagnosis']"
      ],
      "metadata": {
        "id": "REffnhxQLTjy"
      },
      "execution_count": null,
      "outputs": []
    },
    {
      "cell_type": "code",
      "source": [
        "# Create a heatmap to visualize correlations between variables\n",
        "sns.heatmap(df2.corr())\n",
        "plt.show()"
      ],
      "metadata": {
        "colab": {
          "base_uri": "https://localhost:8080/",
          "height": 521
        },
        "id": "j3eXDY1d4qE5",
        "outputId": "a773cba2-39d3-4805-981b-23d6600a4f70"
      },
      "execution_count": null,
      "outputs": [
        {
          "output_type": "display_data",
          "data": {
            "text/plain": [
              "<Figure size 640x480 with 2 Axes>"
            ],
            "image/png": "[encoded data removed]"
          },
          "metadata": {}
        }
      ]
    },
    {
      "cell_type": "markdown",
      "source": [
        "## Creating and Training the Model"
      ],
      "metadata": {
        "id": "49PJzZVN6yEI"
      }
    },
    {
      "cell_type": "code",
      "source": [
        "# Separate the target class variable and the other variables\n",
        "X = df2.drop('Diagnosis', axis=1)\n",
        "y = df2['Diagnosis']"
      ],
      "metadata": {
        "id": "veaRoCcc5Uw4"
      },
      "execution_count": null,
      "outputs": []
    },
    {
      "cell_type": "code",
      "source": [
        "X_train, X_val, y_train, y_val = train_test_split(X, y, test_size=0.2, random_state=42)"
      ],
      "metadata": {
        "id": "05NdJ24c6xSe"
      },
      "execution_count": null,
      "outputs": []
    },
    {
      "cell_type": "code",
      "source": [
        "# Creating the models and the parameters for Gridsearch\n",
        "models = {\n",
        "    'SVM': (SVC(), {'C': [0.1, 1, 10, 100], 'kernel': ['linear', 'rbf']}),\n",
        "    'Logistic Regression': (LogisticRegression(), {'C': [0.1, 1, 10, 100], 'penalty': ['l1', 'l2']}),\n",
        "    'Random Forest': (RandomForestClassifier(), {'n_estimators': [100, 200, 300, 400, 500], 'max_depth': [None, 5, 10]}),\n",
        "    'Gradient Boosting': (GradientBoostingClassifier(), {'n_estimators': [100, 200, 300, 400, 500], 'learning_rate': [0.1, 0.01, 0.001]})\n",
        "}"
      ],
      "metadata": {
        "id": "PUPU9Wsr65cF"
      },
      "execution_count": null,
      "outputs": []
    },
    {
      "cell_type": "markdown",
      "source": [
        "Comparing model accuracy"
      ],
      "metadata": {
        "id": "SWWmjmWtpOGq"
      }
    },
    {
      "cell_type": "code",
      "source": [
        "# Implementing gridsearch to obtain the best parameters for each model\n",
        "results = {}\n",
        "for model_name, (model, param_grid) in models.items():\n",
        "    grid_search = GridSearchCV(model, param_grid, cv=5)\n",
        "    grid_search.fit(X_train, y_train)\n",
        "    results[model_name] = {\n",
        "        'best_params': grid_search.best_params_,\n",
        "        'best_score': grid_search.best_score_,\n",
        "        'test_score': grid_search.score(X_val, y_val)\n",
        "    }"
      ],
      "metadata": {
        "colab": {
          "base_uri": "https://localhost:8080/"
        },
        "id": "9PQry-92684S",
        "outputId": "502948ee-5392-4276-859e-e4b0738ab2b8"
      },
      "execution_count": null,
      "outputs": [
        {
          "output_type": "stream",
          "name": "stderr",
          "text": [
            "/usr/local/lib/python3.10/dist-packages/sklearn/linear_model/_logistic.py:458: ConvergenceWarning: lbfgs failed to converge (status=1):\n",
            "STOP: TOTAL NO. of ITERATIONS REACHED LIMIT.\n",
            "\n",
            "Increase the number of iterations (max_iter) or scale the data as shown in:\n",
            "    https://scikit-learn.org/stable/modules/preprocessing.html\n",
            "Please also refer to the documentation for alternative solver options:\n",
            "    https://scikit-learn.org/stable/modules/linear_model.html#logistic-regression\n",
            "  n_iter_i = _check_optimize_result(\n",
            "/usr/local/lib/python3.10/dist-packages/sklearn/linear_model/_logistic.py:458: ConvergenceWarning: lbfgs failed to converge (status=1):\n",
            "STOP: TOTAL NO. of ITERATIONS REACHED LIMIT.\n",
            "\n",
            "Increase the number of iterations (max_iter) or scale the data as shown in:\n",
            "    https://scikit-learn.org/stable/modules/preprocessing.html\n",
            "Please also refer to the documentation for alternative solver options:\n",
            "    https://scikit-learn.org/stable/modules/linear_model.html#logistic-regression\n",
            "  n_iter_i = _check_optimize_result(\n",
            "/usr/local/lib/python3.10/dist-packages/sklearn/linear_model/_logistic.py:458: ConvergenceWarning: lbfgs failed to converge (status=1):\n",
            "STOP: TOTAL NO. of ITERATIONS REACHED LIMIT.\n",
            "\n",
            "Increase the number of iterations (max_iter) or scale the data as shown in:\n",
            "    https://scikit-learn.org/stable/modules/preprocessing.html\n",
            "Please also refer to the documentation for alternative solver options:\n",
            "    https://scikit-learn.org/stable/modules/linear_model.html#logistic-regression\n",
            "  n_iter_i = _check_optimize_result(\n",
            "/usr/local/lib/python3.10/dist-packages/sklearn/linear_model/_logistic.py:458: ConvergenceWarning: lbfgs failed to converge (status=1):\n",
            "STOP: TOTAL NO. of ITERATIONS REACHED LIMIT.\n",
            "\n",
            "Increase the number of iterations (max_iter) or scale the data as shown in:\n",
            "    https://scikit-learn.org/stable/modules/preprocessing.html\n",
            "Please also refer to the documentation for alternative solver options:\n",
            "    https://scikit-learn.org/stable/modules/linear_model.html#logistic-regression\n",
            "  n_iter_i = _check_optimize_result(\n",
            "/usr/local/lib/python3.10/dist-packages/sklearn/linear_model/_logistic.py:458: ConvergenceWarning: lbfgs failed to converge (status=1):\n",
            "STOP: TOTAL NO. of ITERATIONS REACHED LIMIT.\n",
            "\n",
            "Increase the number of iterations (max_iter) or scale the data as shown in:\n",
            "    https://scikit-learn.org/stable/modules/preprocessing.html\n",
            "Please also refer to the documentation for alternative solver options:\n",
            "    https://scikit-learn.org/stable/modules/linear_model.html#logistic-regression\n",
            "  n_iter_i = _check_optimize_result(\n",
            "/usr/local/lib/python3.10/dist-packages/sklearn/linear_model/_logistic.py:458: ConvergenceWarning: lbfgs failed to converge (status=1):\n",
            "STOP: TOTAL NO. of ITERATIONS REACHED LIMIT.\n",
            "\n",
            "Increase the number of iterations (max_iter) or scale the data as shown in:\n",
            "    https://scikit-learn.org/stable/modules/preprocessing.html\n",
            "Please also refer to the documentation for alternative solver options:\n",
            "    https://scikit-learn.org/stable/modules/linear_model.html#logistic-regression\n",
            "  n_iter_i = _check_optimize_result(\n",
            "/usr/local/lib/python3.10/dist-packages/sklearn/linear_model/_logistic.py:458: ConvergenceWarning: lbfgs failed to converge (status=1):\n",
            "STOP: TOTAL NO. of ITERATIONS REACHED LIMIT.\n",
            "\n",
            "Increase the number of iterations (max_iter) or scale the data as shown in:\n",
            "    https://scikit-learn.org/stable/modules/preprocessing.html\n",
            "Please also refer to the documentation for alternative solver options:\n",
            "    https://scikit-learn.org/stable/modules/linear_model.html#logistic-regression\n",
            "  n_iter_i = _check_optimize_result(\n",
            "/usr/local/lib/python3.10/dist-packages/sklearn/linear_model/_logistic.py:458: ConvergenceWarning: lbfgs failed to converge (status=1):\n",
            "STOP: TOTAL NO. of ITERATIONS REACHED LIMIT.\n",
            "\n",
            "Increase the number of iterations (max_iter) or scale the data as shown in:\n",
            "    https://scikit-learn.org/stable/modules/preprocessing.html\n",
            "Please also refer to the documentation for alternative solver options:\n",
            "    https://scikit-learn.org/stable/modules/linear_model.html#logistic-regression\n",
            "  n_iter_i = _check_optimize_result(\n",
            "/usr/local/lib/python3.10/dist-packages/sklearn/linear_model/_logistic.py:458: ConvergenceWarning: lbfgs failed to converge (status=1):\n",
            "STOP: TOTAL NO. of ITERATIONS REACHED LIMIT.\n",
            "\n",
            "Increase the number of iterations (max_iter) or scale the data as shown in:\n",
            "    https://scikit-learn.org/stable/modules/preprocessing.html\n",
            "Please also refer to the documentation for alternative solver options:\n",
            "    https://scikit-learn.org/stable/modules/linear_model.html#logistic-regression\n",
            "  n_iter_i = _check_optimize_result(\n",
            "/usr/local/lib/python3.10/dist-packages/sklearn/linear_model/_logistic.py:458: ConvergenceWarning: lbfgs failed to converge (status=1):\n",
            "STOP: TOTAL NO. of ITERATIONS REACHED LIMIT.\n",
            "\n",
            "Increase the number of iterations (max_iter) or scale the data as shown in:\n",
            "    https://scikit-learn.org/stable/modules/preprocessing.html\n",
            "Please also refer to the documentation for alternative solver options:\n",
            "    https://scikit-learn.org/stable/modules/linear_model.html#logistic-regression\n",
            "  n_iter_i = _check_optimize_result(\n",
            "/usr/local/lib/python3.10/dist-packages/sklearn/linear_model/_logistic.py:458: ConvergenceWarning: lbfgs failed to converge (status=1):\n",
            "STOP: TOTAL NO. of ITERATIONS REACHED LIMIT.\n",
            "\n",
            "Increase the number of iterations (max_iter) or scale the data as shown in:\n",
            "    https://scikit-learn.org/stable/modules/preprocessing.html\n",
            "Please also refer to the documentation for alternative solver options:\n",
            "    https://scikit-learn.org/stable/modules/linear_model.html#logistic-regression\n",
            "  n_iter_i = _check_optimize_result(\n",
            "/usr/local/lib/python3.10/dist-packages/sklearn/linear_model/_logistic.py:458: ConvergenceWarning: lbfgs failed to converge (status=1):\n",
            "STOP: TOTAL NO. of ITERATIONS REACHED LIMIT.\n",
            "\n",
            "Increase the number of iterations (max_iter) or scale the data as shown in:\n",
            "    https://scikit-learn.org/stable/modules/preprocessing.html\n",
            "Please also refer to the documentation for alternative solver options:\n",
            "    https://scikit-learn.org/stable/modules/linear_model.html#logistic-regression\n",
            "  n_iter_i = _check_optimize_result(\n",
            "/usr/local/lib/python3.10/dist-packages/sklearn/linear_model/_logistic.py:458: ConvergenceWarning: lbfgs failed to converge (status=1):\n",
            "STOP: TOTAL NO. of ITERATIONS REACHED LIMIT.\n",
            "\n",
            "Increase the number of iterations (max_iter) or scale the data as shown in:\n",
            "    https://scikit-learn.org/stable/modules/preprocessing.html\n",
            "Please also refer to the documentation for alternative solver options:\n",
            "    https://scikit-learn.org/stable/modules/linear_model.html#logistic-regression\n",
            "  n_iter_i = _check_optimize_result(\n",
            "/usr/local/lib/python3.10/dist-packages/sklearn/linear_model/_logistic.py:458: ConvergenceWarning: lbfgs failed to converge (status=1):\n",
            "STOP: TOTAL NO. of ITERATIONS REACHED LIMIT.\n",
            "\n",
            "Increase the number of iterations (max_iter) or scale the data as shown in:\n",
            "    https://scikit-learn.org/stable/modules/preprocessing.html\n",
            "Please also refer to the documentation for alternative solver options:\n",
            "    https://scikit-learn.org/stable/modules/linear_model.html#logistic-regression\n",
            "  n_iter_i = _check_optimize_result(\n",
            "/usr/local/lib/python3.10/dist-packages/sklearn/linear_model/_logistic.py:458: ConvergenceWarning: lbfgs failed to converge (status=1):\n",
            "STOP: TOTAL NO. of ITERATIONS REACHED LIMIT.\n",
            "\n",
            "Increase the number of iterations (max_iter) or scale the data as shown in:\n",
            "    https://scikit-learn.org/stable/modules/preprocessing.html\n",
            "Please also refer to the documentation for alternative solver options:\n",
            "    https://scikit-learn.org/stable/modules/linear_model.html#logistic-regression\n",
            "  n_iter_i = _check_optimize_result(\n",
            "/usr/local/lib/python3.10/dist-packages/sklearn/linear_model/_logistic.py:458: ConvergenceWarning: lbfgs failed to converge (status=1):\n",
            "STOP: TOTAL NO. of ITERATIONS REACHED LIMIT.\n",
            "\n",
            "Increase the number of iterations (max_iter) or scale the data as shown in:\n",
            "    https://scikit-learn.org/stable/modules/preprocessing.html\n",
            "Please also refer to the documentation for alternative solver options:\n",
            "    https://scikit-learn.org/stable/modules/linear_model.html#logistic-regression\n",
            "  n_iter_i = _check_optimize_result(\n",
            "/usr/local/lib/python3.10/dist-packages/sklearn/linear_model/_logistic.py:458: ConvergenceWarning: lbfgs failed to converge (status=1):\n",
            "STOP: TOTAL NO. of ITERATIONS REACHED LIMIT.\n",
            "\n",
            "Increase the number of iterations (max_iter) or scale the data as shown in:\n",
            "    https://scikit-learn.org/stable/modules/preprocessing.html\n",
            "Please also refer to the documentation for alternative solver options:\n",
            "    https://scikit-learn.org/stable/modules/linear_model.html#logistic-regression\n",
            "  n_iter_i = _check_optimize_result(\n",
            "/usr/local/lib/python3.10/dist-packages/sklearn/linear_model/_logistic.py:458: ConvergenceWarning: lbfgs failed to converge (status=1):\n",
            "STOP: TOTAL NO. of ITERATIONS REACHED LIMIT.\n",
            "\n",
            "Increase the number of iterations (max_iter) or scale the data as shown in:\n",
            "    https://scikit-learn.org/stable/modules/preprocessing.html\n",
            "Please also refer to the documentation for alternative solver options:\n",
            "    https://scikit-learn.org/stable/modules/linear_model.html#logistic-regression\n",
            "  n_iter_i = _check_optimize_result(\n",
            "/usr/local/lib/python3.10/dist-packages/sklearn/linear_model/_logistic.py:458: ConvergenceWarning: lbfgs failed to converge (status=1):\n",
            "STOP: TOTAL NO. of ITERATIONS REACHED LIMIT.\n",
            "\n",
            "Increase the number of iterations (max_iter) or scale the data as shown in:\n",
            "    https://scikit-learn.org/stable/modules/preprocessing.html\n",
            "Please also refer to the documentation for alternative solver options:\n",
            "    https://scikit-learn.org/stable/modules/linear_model.html#logistic-regression\n",
            "  n_iter_i = _check_optimize_result(\n",
            "/usr/local/lib/python3.10/dist-packages/sklearn/model_selection/_validation.py:378: FitFailedWarning: \n",
            "20 fits failed out of a total of 40.\n",
            "The score on these train-test partitions for these parameters will be set to nan.\n",
            "If these failures are not expected, you can try to debug them by setting error_score='raise'.\n",
            "\n",
            "Below are more details about the failures:\n",
            "--------------------------------------------------------------------------------\n",
            "20 fits failed with the following error:\n",
            "Traceback (most recent call last):\n",
            "  File \"/usr/local/lib/python3.10/dist-packages/sklearn/model_selection/_validation.py\", line 686, in _fit_and_score\n",
            "    estimator.fit(X_train, y_train, **fit_params)\n",
            "  File \"/usr/local/lib/python3.10/dist-packages/sklearn/linear_model/_logistic.py\", line 1162, in fit\n",
            "    solver = _check_solver(self.solver, self.penalty, self.dual)\n",
            "  File \"/usr/local/lib/python3.10/dist-packages/sklearn/linear_model/_logistic.py\", line 54, in _check_solver\n",
            "    raise ValueError(\n",
            "ValueError: Solver lbfgs supports only 'l2' or 'none' penalties, got l1 penalty.\n",
            "\n",
            "  warnings.warn(some_fits_failed_message, FitFailedWarning)\n",
            "/usr/local/lib/python3.10/dist-packages/sklearn/model_selection/_search.py:952: UserWarning: One or more of the test scores are non-finite: [       nan 0.84444444        nan 0.85555556        nan 0.83333333\n",
            "        nan 0.83333333]\n",
            "  warnings.warn(\n",
            "/usr/local/lib/python3.10/dist-packages/sklearn/linear_model/_logistic.py:458: ConvergenceWarning: lbfgs failed to converge (status=1):\n",
            "STOP: TOTAL NO. of ITERATIONS REACHED LIMIT.\n",
            "\n",
            "Increase the number of iterations (max_iter) or scale the data as shown in:\n",
            "    https://scikit-learn.org/stable/modules/preprocessing.html\n",
            "Please also refer to the documentation for alternative solver options:\n",
            "    https://scikit-learn.org/stable/modules/linear_model.html#logistic-regression\n",
            "  n_iter_i = _check_optimize_result(\n"
          ]
        }
      ]
    },
    {
      "cell_type": "code",
      "source": [
        "for model_name, result in results.items():\n",
        "    print(model_name)\n",
        "    print('Best Parameters:', result['best_params'])\n",
        "    print('Best Training Score:', result['best_score'])\n",
        "    print('Validation Score:', result['test_score'])\n",
        "    print()"
      ],
      "metadata": {
        "colab": {
          "base_uri": "https://localhost:8080/"
        },
        "id": "qycuELye7W0o",
        "outputId": "1497d5d7-16f3-4d2a-bfbf-595ad6b24d42"
      },
      "execution_count": null,
      "outputs": [
        {
          "output_type": "stream",
          "name": "stdout",
          "text": [
            "SVM\n",
            "Best Parameters: {'C': 100, 'kernel': 'rbf'}\n",
            "Best Training Score: 0.8666666666666668\n",
            "Validation Score: 0.9565217391304348\n",
            "\n",
            "Logistic Regression\n",
            "Best Parameters: {'C': 1, 'penalty': 'l2'}\n",
            "Best Training Score: 0.8555555555555555\n",
            "Validation Score: 0.8695652173913043\n",
            "\n",
            "Random Forest\n",
            "Best Parameters: {'max_depth': None, 'n_estimators': 200}\n",
            "Best Training Score: 0.8777777777777779\n",
            "Validation Score: 0.8260869565217391\n",
            "\n",
            "Gradient Boosting\n",
            "Best Parameters: {'learning_rate': 0.001, 'n_estimators': 400}\n",
            "Best Training Score: 0.8666666666666666\n",
            "Validation Score: 0.7391304347826086\n",
            "\n"
          ]
        }
      ]
    },
    {
      "cell_type": "markdown",
      "source": [
        "Training the best model"
      ],
      "metadata": {
        "id": "Kbl1yDNxpk16"
      }
    },
    {
      "cell_type": "code",
      "source": [
        "# Creating model based on best results\n",
        "best_params = {'C': 100, 'kernel': 'rbf'}\n",
        "svm_model = SVC(**best_params)\n",
        "svm_model.fit(X_train, y_train)"
      ],
      "metadata": {
        "colab": {
          "base_uri": "https://localhost:8080/",
          "height": 74
        },
        "id": "Guwrjwus8nal",
        "outputId": "2be48654-08c1-4710-9151-818fc7e196f4"
      },
      "execution_count": null,
      "outputs": [
        {
          "output_type": "execute_result",
          "data": {
            "text/plain": [
              "SVC(C=100)"
            ],
            "text/html": [
              "<style>#sk-container-id-1 {color: black;background-color: white;}#sk-container-id-1 pre{padding: 0;}#sk-container-id-1 div.sk-toggleable {background-color: white;}#sk-container-id-1 label.sk-toggleable__label {cursor: pointer;display: block;width: 100%;margin-bottom: 0;padding: 0.3em;box-sizing: border-box;text-align: center;}#sk-container-id-1 label.sk-toggleable__label-arrow:before {content: \"▸\";float: left;margin-right: 0.25em;color: #696969;}#sk-container-id-1 label.sk-toggleable__label-arrow:hover:before {color: black;}#sk-container-id-1 div.sk-estimator:hover label.sk-toggleable__label-arrow:before {color: black;}#sk-container-id-1 div.sk-toggleable__content {max-height: 0;max-width: 0;overflow: hidden;text-align: left;background-color: #f0f8ff;}#sk-container-id-1 div.sk-toggleable__content pre {margin: 0.2em;color: black;border-radius: 0.25em;background-color: #f0f8ff;}#sk-container-id-1 input.sk-toggleable__control:checked~div.sk-toggleable__content {max-height: 200px;max-width: 100%;overflow: auto;}#sk-container-id-1 input.sk-toggleable__control:checked~label.sk-toggleable__label-arrow:before {content: \"▾\";}#sk-container-id-1 div.sk-estimator input.sk-toggleable__control:checked~label.sk-toggleable__label {background-color: #d4ebff;}#sk-container-id-1 div.sk-label input.sk-toggleable__control:checked~label.sk-toggleable__label {background-color: #d4ebff;}#sk-container-id-1 input.sk-hidden--visually {border: 0;clip: rect(1px 1px 1px 1px);clip: rect(1px, 1px, 1px, 1px);height: 1px;margin: -1px;overflow: hidden;padding: 0;position: absolute;width: 1px;}#sk-container-id-1 div.sk-estimator {font-family: monospace;background-color: #f0f8ff;border: 1px dotted black;border-radius: 0.25em;box-sizing: border-box;margin-bottom: 0.5em;}#sk-container-id-1 div.sk-estimator:hover {background-color: #d4ebff;}#sk-container-id-1 div.sk-parallel-item::after {content: \"\";width: 100%;border-bottom: 1px solid gray;flex-grow: 1;}#sk-container-id-1 div.sk-label:hover label.sk-toggleable__label {background-color: #d4ebff;}#sk-container-id-1 div.sk-serial::before {content: \"\";position: absolute;border-left: 1px solid gray;box-sizing: border-box;top: 0;bottom: 0;left: 50%;z-index: 0;}#sk-container-id-1 div.sk-serial {display: flex;flex-direction: column;align-items: center;background-color: white;padding-right: 0.2em;padding-left: 0.2em;position: relative;}#sk-container-id-1 div.sk-item {position: relative;z-index: 1;}#sk-container-id-1 div.sk-parallel {display: flex;align-items: stretch;justify-content: center;background-color: white;position: relative;}#sk-container-id-1 div.sk-item::before, #sk-container-id-1 div.sk-parallel-item::before {content: \"\";position: absolute;border-left: 1px solid gray;box-sizing: border-box;top: 0;bottom: 0;left: 50%;z-index: -1;}#sk-container-id-1 div.sk-parallel-item {display: flex;flex-direction: column;z-index: 1;position: relative;background-color: white;}#sk-container-id-1 div.sk-parallel-item:first-child::after {align-self: flex-end;width: 50%;}#sk-container-id-1 div.sk-parallel-item:last-child::after {align-self: flex-start;width: 50%;}#sk-container-id-1 div.sk-parallel-item:only-child::after {width: 0;}#sk-container-id-1 div.sk-dashed-wrapped {border: 1px dashed gray;margin: 0 0.4em 0.5em 0.4em;box-sizing: border-box;padding-bottom: 0.4em;background-color: white;}#sk-container-id-1 div.sk-label label {font-family: monospace;font-weight: bold;display: inline-block;line-height: 1.2em;}#sk-container-id-1 div.sk-label-container {text-align: center;}#sk-container-id-1 div.sk-container {/* jupyter's `normalize.less` sets `[hidden] { display: none; }` but bootstrap.min.css set `[hidden] { display: none !important; }` so we also need the `!important` here to be able to override the default hidden behavior on the sphinx rendered scikit-learn.org. See: https://github.com/scikit-learn/scikit-learn/issues/21755 */display: inline-block !important;position: relative;}#sk-container-id-1 div.sk-text-repr-fallback {display: none;}</style><div id=\"sk-container-id-1\" class=\"sk-top-container\"><div class=\"sk-text-repr-fallback\"><pre>SVC(C=100)</pre><b>In a Jupyter environment, please rerun this cell to show the HTML representation or trust the notebook. <br />On GitHub, the HTML representation is unable to render, please try loading this page with nbviewer.org.</b></div><div class=\"sk-container\" hidden><div class=\"sk-item\"><div class=\"sk-estimator sk-toggleable\"><input class=\"sk-toggleable__control sk-hidden--visually\" id=\"sk-estimator-id-1\" type=\"checkbox\" checked><label for=\"sk-estimator-id-1\" class=\"sk-toggleable__label sk-toggleable__label-arrow\">SVC</label><div class=\"sk-toggleable__content\"><pre>SVC(C=100)</pre></div></div></div></div></div>"
            ]
          },
          "metadata": {},
          "execution_count": 30
        }
      ]
    },
    {
      "cell_type": "markdown",
      "source": [
        "##  Final Results"
      ],
      "metadata": {
        "id": "N-HnM3b9nuH-"
      }
    },
    {
      "cell_type": "code",
      "source": [
        "# Preprocessing the test data\n",
        "df = df.drop(columns_to_drop, axis=1)c\n",
        "olumn_averages = df.mean()\n",
        "column_std = df.std()"
      ],
      "metadata": {
        "id": "_AvazbVs-qjW"
      },
      "execution_count": null,
      "outputs": []
    },
    {
      "cell_type": "code",
      "source": [
        "df = df.fillna(column_averages)"
      ],
      "metadata": {
        "id": "NzUGzgjI-7YJ"
      },
      "execution_count": null,
      "outputs": []
    },
    {
      "cell_type": "code",
      "source": [
        "X_test = df.drop('Diagnosis', axis=1)\n",
        "y_test = df['Diagnosis']"
      ],
      "metadata": {
        "id": "HqPOTAgw_ZAY"
      },
      "execution_count": null,
      "outputs": []
    },
    {
      "cell_type": "markdown",
      "source": [
        "Obtaining predicted diagnosis values"
      ],
      "metadata": {
        "id": "CKXkaMIxq1PG"
      }
    },
    {
      "cell_type": "code",
      "source": [
        "y_pred = svm_model.predict(X_test)\n",
        "accuracy = accuracy_score(y_test, y_pred)"
      ],
      "metadata": {
        "id": "mbAAWAxz_xtJ"
      },
      "execution_count": null,
      "outputs": []
    },
    {
      "cell_type": "markdown",
      "source": [
        "Creating the Classification Report"
      ],
      "metadata": {
        "id": "C-JYb4H4qxvo"
      }
    },
    {
      "cell_type": "code",
      "source": [
        "classification_rep = classification_report(y_test, y_pred)\n",
        "print(\"Accuracy: \", accuracy)\n",
        "print(\"Classification Report: \")\n",
        "print(classification_rep)"
      ],
      "metadata": {
        "colab": {
          "base_uri": "https://localhost:8080/"
        },
        "id": "ylMoY9c5_tQw",
        "outputId": "cb8b04da-d411-46b5-ee2b-d70a07076a4b"
      },
      "execution_count": null,
      "outputs": [
        {
          "output_type": "stream",
          "name": "stdout",
          "text": [
            "Accuracy:  0.8928571428571429\n",
            "Classification Report: \n",
            "              precision    recall  f1-score   support\n",
            "\n",
            "           1       0.83      0.91      0.87        22\n",
            "           2       0.94      0.88      0.91        34\n",
            "\n",
            "    accuracy                           0.89        56\n",
            "   macro avg       0.89      0.90      0.89        56\n",
            "weighted avg       0.90      0.89      0.89        56\n",
            "\n"
          ]
        }
      ]
    },
    {
      "cell_type": "markdown",
      "source": [
        "Creating the confusion matrix"
      ],
      "metadata": {
        "id": "YDMYUAwqqUp3"
      }
    },
    {
      "cell_type": "code",
      "source": [
        "confusion_matrix = metrics.confusion_matrix(y_test, y_pred)\n",
        "cm_display = metrics.ConfusionMatrixDisplay(confusion_matrix = confusion_matrix)\n",
        "cm_display.plot()\n",
        "plt.show()"
      ],
      "metadata": {
        "id": "PdC-pmSQK25j",
        "colab": {
          "base_uri": "https://localhost:8080/",
          "height": 455
        },
        "outputId": "302e2159-1360-4644-bf7d-d42d6185aac2"
      },
      "execution_count": null,
      "outputs": [
        {
          "output_type": "display_data",
          "data": {
            "text/plain": [
              "<Figure size 640x480 with 2 Axes>"
            ],
            "image/png": "[encoded data removed]"
          },
          "metadata": {}
        }
      ]
    }
  ]
}